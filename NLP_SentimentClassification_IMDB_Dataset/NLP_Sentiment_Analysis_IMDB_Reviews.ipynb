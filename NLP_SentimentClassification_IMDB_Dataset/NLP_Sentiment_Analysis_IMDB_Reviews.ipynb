{
 "cells": [
  {
   "cell_type": "markdown",
   "id": "46fec1b2-27ea-4f55-8ac3-5f85054a80e6",
   "metadata": {},
   "source": [
    "# NLP Assignment- IMDB Sentiment Analysis Dataset- Mohamed Helayhel"
   ]
  },
  {
   "cell_type": "code",
   "execution_count": 1,
   "id": "223d7090-5d4d-41c8-8836-6b3a9b7ebd30",
   "metadata": {},
   "outputs": [],
   "source": [
    "import numpy as np\n",
    "import pandas as pd\n",
    "import matplotlib.pyplot as plt\n",
    "from sklearn.preprocessing import LabelEncoder, StandardScaler\n",
    "from sklearn.model_selection import train_test_split\n",
    "\n",
    "from tensorflow.keras.models import Sequential\n",
    "from tensorflow.keras.layers import Dense, LSTM\n",
    "from tensorflow.keras.utils import to_categorical\n",
    "from tensorflow.keras.datasets import imdb \n",
    "\n",
    "import nltk\n",
    "from nltk.corpus import stopwords\n",
    "from nltk.stem import WordNetLemmatizer\n",
    "from tensorflow.keras.preprocessing.text import Tokenizer \n",
    "from tensorflow.keras.preprocessing.sequence import pad_sequences"
   ]
  },
  {
   "cell_type": "markdown",
   "id": "ec886312-b117-4d82-9409-c36f9f522611",
   "metadata": {},
   "source": [
    "## Load Dataset- IMDB\n",
    "The IMDB dataset is a collection of 50,000 movie reviews from the Internet Movie Database (IMDB) that have been preprocessed and labeled by sentiment (positive/negative). The dataset is split into 25,000 reviews for training and 25,000 reviews for testing. Reviews have been preprocessed, and each review is encoded as a list of word indexes (integers).\n",
    "\n",
    "**Desired Output:** This dataset was previously used with RNNs(LSTMs) with limited preprocessing, and we faced some issues with overfitting and early plateaus. This time, the same dataset will be explored with the use of more advanced NLP Methods, such as the removal of stop words, text lemmatization, as well as the use of pre-trained embeddings like GloVe. The overall objective remains the same, and it is to analyze the words in a movie review sequentially and predict whether the review is positive or negative."
   ]
  },
  {
   "cell_type": "code",
   "execution_count": 4,
   "id": "8a24afe8-e1c7-4a2d-8c35-b54744e602fe",
   "metadata": {},
   "outputs": [],
   "source": [
    "# Parameters\n",
    "max_vocab = 10000  # Top 10,000 words\n",
    "max_length = 200   # Max review length\n",
    "\n",
    "# Set the random seed for reproducibility\n",
    "np.random.seed(42)\n",
    "\n",
    "# Load data\n",
    "(X_train, y_train), (X_test, y_test) = imdb.load_data(num_words=max_vocab)"
   ]
  },
  {
   "cell_type": "markdown",
   "id": "938c54b3-a0f2-4c9f-9302-6d4a63a95635",
   "metadata": {},
   "source": [
    "**NOTE:** num_words=10000 means that only the top 10,000 most frequent words will be kept in the dataset."
   ]
  },
  {
   "cell_type": "code",
   "execution_count": 7,
   "id": "28196515-26ac-4473-9b8c-d336f8964b3f",
   "metadata": {},
   "outputs": [
    {
     "data": {
      "text/plain": [
       "(25000,)"
      ]
     },
     "execution_count": 7,
     "metadata": {},
     "output_type": "execute_result"
    }
   ],
   "source": [
    "X_train.shape"
   ]
  },
  {
   "cell_type": "code",
   "execution_count": 9,
   "id": "06e4e0ab-5000-4fd5-9407-a03b1144ff5b",
   "metadata": {},
   "outputs": [
    {
     "data": {
      "text/plain": [
       "(25000,)"
      ]
     },
     "execution_count": 9,
     "metadata": {},
     "output_type": "execute_result"
    }
   ],
   "source": [
    "y_train.shape"
   ]
  },
  {
   "cell_type": "code",
   "execution_count": 11,
   "id": "e9b00524-183e-42f4-a868-98f4c46de632",
   "metadata": {},
   "outputs": [
    {
     "data": {
      "text/plain": [
       "(25000,)"
      ]
     },
     "execution_count": 11,
     "metadata": {},
     "output_type": "execute_result"
    }
   ],
   "source": [
    "X_test.shape"
   ]
  },
  {
   "cell_type": "code",
   "execution_count": 13,
   "id": "595340b6-a91b-4209-9b80-e9787d50f42c",
   "metadata": {},
   "outputs": [
    {
     "data": {
      "text/plain": [
       "(25000,)"
      ]
     },
     "execution_count": 13,
     "metadata": {},
     "output_type": "execute_result"
    }
   ],
   "source": [
    "y_test.shape"
   ]
  },
  {
   "cell_type": "code",
   "execution_count": 15,
   "id": "b3ada47d-e622-4906-9dde-3ad21fb88731",
   "metadata": {},
   "outputs": [
    {
     "data": {
      "text/plain": [
       "[1,\n",
       " 14,\n",
       " 22,\n",
       " 16,\n",
       " 43,\n",
       " 530,\n",
       " 973,\n",
       " 1622,\n",
       " 1385,\n",
       " 65,\n",
       " 458,\n",
       " 4468,\n",
       " 66,\n",
       " 3941,\n",
       " 4,\n",
       " 173,\n",
       " 36,\n",
       " 256,\n",
       " 5,\n",
       " 25,\n",
       " 100,\n",
       " 43,\n",
       " 838,\n",
       " 112,\n",
       " 50,\n",
       " 670,\n",
       " 2,\n",
       " 9,\n",
       " 35,\n",
       " 480,\n",
       " 284,\n",
       " 5,\n",
       " 150,\n",
       " 4,\n",
       " 172,\n",
       " 112,\n",
       " 167,\n",
       " 2,\n",
       " 336,\n",
       " 385,\n",
       " 39,\n",
       " 4,\n",
       " 172,\n",
       " 4536,\n",
       " 1111,\n",
       " 17,\n",
       " 546,\n",
       " 38,\n",
       " 13,\n",
       " 447,\n",
       " 4,\n",
       " 192,\n",
       " 50,\n",
       " 16,\n",
       " 6,\n",
       " 147,\n",
       " 2025,\n",
       " 19,\n",
       " 14,\n",
       " 22,\n",
       " 4,\n",
       " 1920,\n",
       " 4613,\n",
       " 469,\n",
       " 4,\n",
       " 22,\n",
       " 71,\n",
       " 87,\n",
       " 12,\n",
       " 16,\n",
       " 43,\n",
       " 530,\n",
       " 38,\n",
       " 76,\n",
       " 15,\n",
       " 13,\n",
       " 1247,\n",
       " 4,\n",
       " 22,\n",
       " 17,\n",
       " 515,\n",
       " 17,\n",
       " 12,\n",
       " 16,\n",
       " 626,\n",
       " 18,\n",
       " 2,\n",
       " 5,\n",
       " 62,\n",
       " 386,\n",
       " 12,\n",
       " 8,\n",
       " 316,\n",
       " 8,\n",
       " 106,\n",
       " 5,\n",
       " 4,\n",
       " 2223,\n",
       " 5244,\n",
       " 16,\n",
       " 480,\n",
       " 66,\n",
       " 3785,\n",
       " 33,\n",
       " 4,\n",
       " 130,\n",
       " 12,\n",
       " 16,\n",
       " 38,\n",
       " 619,\n",
       " 5,\n",
       " 25,\n",
       " 124,\n",
       " 51,\n",
       " 36,\n",
       " 135,\n",
       " 48,\n",
       " 25,\n",
       " 1415,\n",
       " 33,\n",
       " 6,\n",
       " 22,\n",
       " 12,\n",
       " 215,\n",
       " 28,\n",
       " 77,\n",
       " 52,\n",
       " 5,\n",
       " 14,\n",
       " 407,\n",
       " 16,\n",
       " 82,\n",
       " 2,\n",
       " 8,\n",
       " 4,\n",
       " 107,\n",
       " 117,\n",
       " 5952,\n",
       " 15,\n",
       " 256,\n",
       " 4,\n",
       " 2,\n",
       " 7,\n",
       " 3766,\n",
       " 5,\n",
       " 723,\n",
       " 36,\n",
       " 71,\n",
       " 43,\n",
       " 530,\n",
       " 476,\n",
       " 26,\n",
       " 400,\n",
       " 317,\n",
       " 46,\n",
       " 7,\n",
       " 4,\n",
       " 2,\n",
       " 1029,\n",
       " 13,\n",
       " 104,\n",
       " 88,\n",
       " 4,\n",
       " 381,\n",
       " 15,\n",
       " 297,\n",
       " 98,\n",
       " 32,\n",
       " 2071,\n",
       " 56,\n",
       " 26,\n",
       " 141,\n",
       " 6,\n",
       " 194,\n",
       " 7486,\n",
       " 18,\n",
       " 4,\n",
       " 226,\n",
       " 22,\n",
       " 21,\n",
       " 134,\n",
       " 476,\n",
       " 26,\n",
       " 480,\n",
       " 5,\n",
       " 144,\n",
       " 30,\n",
       " 5535,\n",
       " 18,\n",
       " 51,\n",
       " 36,\n",
       " 28,\n",
       " 224,\n",
       " 92,\n",
       " 25,\n",
       " 104,\n",
       " 4,\n",
       " 226,\n",
       " 65,\n",
       " 16,\n",
       " 38,\n",
       " 1334,\n",
       " 88,\n",
       " 12,\n",
       " 16,\n",
       " 283,\n",
       " 5,\n",
       " 16,\n",
       " 4472,\n",
       " 113,\n",
       " 103,\n",
       " 32,\n",
       " 15,\n",
       " 16,\n",
       " 5345,\n",
       " 19,\n",
       " 178,\n",
       " 32]"
      ]
     },
     "execution_count": 15,
     "metadata": {},
     "output_type": "execute_result"
    }
   ],
   "source": [
    "X_train[0]"
   ]
  },
  {
   "cell_type": "code",
   "execution_count": 17,
   "id": "0f979e11-71ff-4666-9c63-b2de8bdb81dc",
   "metadata": {},
   "outputs": [
    {
     "data": {
      "text/plain": [
       "array([1, 0, 0, 1, 0, 0, 1, 0, 1, 0, 1, 0, 0, 0, 0, 0, 1, 1, 0, 1, 0, 0,\n",
       "       1, 0, 1, 1, 0, 0, 1, 0, 0, 1, 1, 1, 0, 0, 0, 1, 0, 0, 1, 0, 0, 0,\n",
       "       1, 1, 1, 0, 1, 0, 0, 0, 0, 0, 0, 0, 1, 0, 1, 1, 0, 0, 0, 1, 1, 1,\n",
       "       1, 1, 1, 1, 1, 0, 0, 1, 1, 0, 1, 0, 0, 1, 1, 0, 0, 1, 1, 0, 0, 0,\n",
       "       1, 0, 0, 0, 0, 0, 0, 0, 0, 1, 1])"
      ]
     },
     "execution_count": 17,
     "metadata": {},
     "output_type": "execute_result"
    }
   ],
   "source": [
    "y_train[0:99]"
   ]
  },
  {
   "cell_type": "markdown",
   "id": "2698a07b-d852-4ce7-bafe-0bb49f1c1f1e",
   "metadata": {},
   "source": [
    "### **Initial Exploration of data**\n",
    "\n",
    "**Processing the Data for the Neural Network**:\n",
    "\n",
    "* max_vocab = 10000: This line sets \n",
    "the maximum vocabulary size to 10,000 words. This means that only the 10,000 most frequent words in the dataset will be considered, and less common words will be ignored.\n",
    "\n",
    "* max_length = 200: This line sets the maximum length of a review to 200 words. Reviews longer than 200 words will be truncated, and shorter reviews will be padded.\n",
    "\n",
    "* X_train and X_test contain the movie reviews themselves (represented as sequences of word indices) as seen above.\n",
    "\n",
    "* y_train and y_test will contain the corresponding sentiment labels (0 for negative, 1 for positive).\n",
    "\n",
    "* pad_sequences function is used such that it takes X_train and X_test (the movie review sequences) and pads or truncates them to ensure they all have a length of max_length (200 words in this case). If a review is shorter than 200 words, it will be padded with zeros at the beginning to reach the desired length. If a review is longer than 200 words, it keeps the first 200 words only.\n",
    "\n",
    "In summary, the code below preprocesses the IMDB movie review data to make it suitable for input to a Recurrent Neural Network (RNN). It limits the vocabulary size, ensures all reviews have the same length, and prepares the data for training and testing."
   ]
  },
  {
   "cell_type": "code",
   "execution_count": 33,
   "id": "139a3b79-b9f8-4416-b9dc-e8de217b6ef6",
   "metadata": {},
   "outputs": [
    {
     "name": "stdout",
     "output_type": "stream",
     "text": [
      "Training data shape: (25000, 200), Test data shape: (25000, 200)\n"
     ]
    }
   ],
   "source": [
    "from keras.preprocessing.sequence import pad_sequences\n",
    "\n",
    "# Pad sequences to ensure equal length\n",
    "X_train = pad_sequences(X_train, maxlen=max_length)\n",
    "X_test = pad_sequences(X_test, maxlen=max_length)\n",
    "\n",
    "print(f\"Training data shape: {X_train.shape}, Test data shape: {X_test.shape}\")"
   ]
  },
  {
   "cell_type": "code",
   "execution_count": 35,
   "id": "2cf7c51a-9b98-4c3b-a63e-157ae06d52ab",
   "metadata": {},
   "outputs": [],
   "source": [
    "from keras.layers import Embedding, SimpleRNN, Dense, LSTM\n",
    "from keras.optimizers import Adam, SGD\n",
    "import matplotlib.pyplot as plt\n",
    "\n",
    "model = Sequential()\n",
    "model.add(Embedding(input_dim=max_vocab, output_dim=128))\n",
    "model.add(LSTM(64, return_sequences=True, activation='relu'))  # Layer 1\n",
    "model.add(LSTM(32, return_sequences=True, activation='relu'))  # Layer 2\n",
    "model.add(LSTM(16, activation='relu'))                         # Layer 3\n",
    "model.add(Dense(1, activation='sigmoid'))  # Output layer for binary classification\n",
    "model.compile(optimizer='adam', loss='binary_crossentropy', metrics=['accuracy'])"
   ]
  },
  {
   "cell_type": "code",
   "execution_count": 37,
   "id": "51dcbcc1-87f4-4ad6-b9b7-9a913f6e88e9",
   "metadata": {},
   "outputs": [
    {
     "name": "stdout",
     "output_type": "stream",
     "text": [
      "Epoch 1/10\n",
      "\u001b[1m313/313\u001b[0m \u001b[32m━━━━━━━━━━━━━━━━━━━━\u001b[0m\u001b[37m\u001b[0m \u001b[1m36s\u001b[0m 110ms/step - accuracy: 0.5212 - loss: nan - val_accuracy: 0.5062 - val_loss: nan\n",
      "Epoch 2/10\n",
      "\u001b[1m313/313\u001b[0m \u001b[32m━━━━━━━━━━━━━━━━━━━━\u001b[0m\u001b[37m\u001b[0m \u001b[1m37s\u001b[0m 118ms/step - accuracy: 0.4995 - loss: nan - val_accuracy: 0.5062 - val_loss: nan\n",
      "Epoch 3/10\n",
      "\u001b[1m313/313\u001b[0m \u001b[32m━━━━━━━━━━━━━━━━━━━━\u001b[0m\u001b[37m\u001b[0m \u001b[1m38s\u001b[0m 122ms/step - accuracy: 0.4914 - loss: nan - val_accuracy: 0.5062 - val_loss: nan\n",
      "Epoch 4/10\n",
      "\u001b[1m313/313\u001b[0m \u001b[32m━━━━━━━━━━━━━━━━━━━━\u001b[0m\u001b[37m\u001b[0m \u001b[1m39s\u001b[0m 126ms/step - accuracy: 0.4973 - loss: nan - val_accuracy: 0.5062 - val_loss: nan\n"
     ]
    },
    {
     "data": {
      "text/plain": [
       "<keras.src.callbacks.history.History at 0x36b937170>"
      ]
     },
     "execution_count": 37,
     "metadata": {},
     "output_type": "execute_result"
    }
   ],
   "source": [
    "from keras.callbacks import EarlyStopping\n",
    "early_stopping = EarlyStopping(monitor='val_loss', patience=3, restore_best_weights=True)\n",
    "\n",
    "model.fit(\n",
    "        X_train, y_train, \n",
    "        validation_split=0.2, \n",
    "        epochs=10, \n",
    "        batch_size=64,\n",
    "        verbose=1,\n",
    "        callbacks=[early_stopping]\n",
    "    )"
   ]
  },
  {
   "cell_type": "markdown",
   "id": "e534c593-1f31-4292-9d86-891227c6581e",
   "metadata": {},
   "source": [
    "## Model 1 Design and Performance \n",
    "* Embedding: Used for representing words (or tokens) as dense vectors in a lower-dimensional space. It is essential for Natural Language Processing (NLP) tasks for dimensionality reduction as well as capturing semantic relationships between the provided words snce similar words are assigned similar representations.\n",
    "* LSTM: Core building blocks for creating sequential models. A recurrent layer with Long Short-Term Memory, which helps capture long-term dependencies in data sequences and avoid vanishing or exploding gradient proe \n",
    "* Dense: A fully connected neural network layer with a single output neuron, crucial for transforming the learned features into a format suitable for making predictions.\n",
    "* Performance: the model has an overall low accuracy with no signs of improvement over the epochs. An early_stopping callback was implemented, which goes into effect if the model fails to reduce validation loss after >3 runs. In this case, the loss is substantial and shows up as nan.\n"
   ]
  },
  {
   "cell_type": "code",
   "execution_count": null,
   "id": "ec9a6d47-672f-49bb-982f-62e36e93f129",
   "metadata": {},
   "outputs": [],
   "source": []
  },
  {
   "cell_type": "markdown",
   "id": "38fd8015-52af-48e5-8fa9-ff8cb2617b58",
   "metadata": {},
   "source": [
    "## Further Processing of Data"
   ]
  },
  {
   "cell_type": "code",
   "execution_count": 141,
   "id": "019e43ab-f32e-4083-81ff-cb691bac10b7",
   "metadata": {},
   "outputs": [
    {
     "name": "stderr",
     "output_type": "stream",
     "text": [
      "[nltk_data] Downloading package stopwords to\n",
      "[nltk_data]     /Users/mohamedhelayhel/nltk_data...\n",
      "[nltk_data]   Package stopwords is already up-to-date!\n",
      "[nltk_data] Downloading package wordnet to\n",
      "[nltk_data]     /Users/mohamedhelayhel/nltk_data...\n",
      "[nltk_data]   Package wordnet is already up-to-date!\n"
     ]
    }
   ],
   "source": [
    "# Download NLTK data\n",
    "nltk.download('stopwords')\n",
    "nltk.download('wordnet')\n",
    "\n",
    "# Load the IMDB dataset\n",
    "(x_train_raw, y_train), (x_test_raw, y_test) = imdb.load_data(num_words=None)\n",
    "\n",
    "# Get word index for decoding\n",
    "word_index = imdb.get_word_index()\n",
    "reverse_word_index = {value: key for key, value in word_index.items()}\n",
    "\n",
    "# Decode function to convert sequences into text\n",
    "def decode_sequence(sequence):\n",
    "    return ' '.join([reverse_word_index.get(i - 3, '?') for i in sequence])\n",
    "\n",
    "# Decode training and test data\n",
    "x_train_decoded = [decode_sequence(seq) for seq in x_train_raw]\n",
    "x_test_decoded = [decode_sequence(seq) for seq in x_test_raw]"
   ]
  },
  {
   "cell_type": "code",
   "execution_count": null,
   "id": "d985c4d7-74e6-4077-9f99-51646720148b",
   "metadata": {},
   "outputs": [],
   "source": []
  },
  {
   "cell_type": "code",
   "execution_count": 143,
   "id": "19c87f96-d587-4678-8904-c7daed979e5c",
   "metadata": {},
   "outputs": [
    {
     "data": {
      "text/plain": [
       "\"? this film was just brilliant casting location scenery story direction everyone's really suited the part they played and you could just imagine being there robert redford's is an amazing actor and now the same being director norman's father came from the same scottish island as myself so i loved the fact there was a real connection with this film the witty remarks throughout the film were great it was just brilliant so much that i bought the film as soon as it was released for retail and would recommend it to everyone to watch and the fly fishing was amazing really cried at the end it was so sad and you know what they say if you cry at a film it must have been good and this definitely was also congratulations to the two little boy's that played the part's of norman and paul they were just brilliant children are often left out of the praising list i think because the stars that play them all grown up are such a big profile for the whole film but these children are amazing and should be praised for what they have done don't you think the whole story was so lovely because it was true and was someone's life after all that was shared with us all\""
      ]
     },
     "execution_count": 143,
     "metadata": {},
     "output_type": "execute_result"
    }
   ],
   "source": [
    "x_train_decoded[0]"
   ]
  },
  {
   "cell_type": "code",
   "execution_count": 145,
   "id": "27a53775-2492-4441-9ff6-31c4eb4338f3",
   "metadata": {},
   "outputs": [],
   "source": [
    "# Stop-word removal and lemmatization\n",
    "stop_words = set(stopwords.words('english'))\n",
    "lemmatizer = WordNetLemmatizer()\n",
    "\n",
    "def preprocess_text(text):\n",
    "    words = text.split()\n",
    "    filtered_words = [\n",
    "        lemmatizer.lemmatize(word) for word in words if word not in stop_words and word != '?'\n",
    "    ]\n",
    "    return ' '.join(filtered_words)\n",
    "\n",
    "# Apply preprocessing\n",
    "x_train_processed = [preprocess_text(text) for text in x_train_decoded]\n",
    "x_test_processed = [preprocess_text(text) for text in x_test_decoded]"
   ]
  },
  {
   "cell_type": "code",
   "execution_count": 147,
   "id": "945c1b8e-6996-46f8-9fca-7920fc4aefeb",
   "metadata": {},
   "outputs": [
    {
     "data": {
      "text/plain": [
       "\"film brilliant casting location scenery story direction everyone's really suited part played could imagine robert redford's amazing actor director norman's father came scottish island loved fact real connection film witty remark throughout film great brilliant much bought film soon released retail would recommend everyone watch fly fishing amazing really cried end sad know say cry film must good definitely also congratulation two little boy's played part's norman paul brilliant child often left praising list think star play grown big profile whole film child amazing praised done think whole story lovely true someone's life shared u\""
      ]
     },
     "execution_count": 147,
     "metadata": {},
     "output_type": "execute_result"
    }
   ],
   "source": [
    "x_train_processed[0]"
   ]
  },
  {
   "cell_type": "code",
   "execution_count": 149,
   "id": "cf3d41d8-8163-4ec3-8fae-edb5ef9a5c56",
   "metadata": {},
   "outputs": [
    {
     "data": {
      "image/png": "[encoded data removed]",
      "text/plain": [
       "<Figure size 1400x600 with 2 Axes>"
      ]
     },
     "metadata": {},
     "output_type": "display_data"
    }
   ],
   "source": [
    "from collections import Counter\n",
    "# Function to preprocess text without lemmatization (raw words)\n",
    "def preprocess_text_raw(text):\n",
    "    words = text.split()\n",
    "    filtered_words = [word for word in words if word not in stop_words and word != '?']\n",
    "    return filtered_words\n",
    "\n",
    "# Function to lemmatize and preprocess text\n",
    "def preprocess_text_for_lemma(text):\n",
    "    words = text.split()\n",
    "    filtered_words = [\n",
    "        lemmatizer.lemmatize(word) for word in words if word not in stop_words and word != '?'\n",
    "    ]\n",
    "    return filtered_words\n",
    "\n",
    "# Apply preprocessing to both training and test data (raw words and lemmatized words)\n",
    "x_train_raw_words = [preprocess_text_raw(text) for text in x_train_decoded]\n",
    "x_test_raw_words = [preprocess_text_raw(text) for text in x_test_decoded]\n",
    "x_train_lemma = [preprocess_text_for_lemma(text) for text in x_train_decoded]\n",
    "x_test_lemma = [preprocess_text_for_lemma(text) for text in x_test_decoded]\n",
    "\n",
    "# Flatten the lists to get all words\n",
    "all_raw_words = [word for sentence in x_train_raw_words + x_test_raw_words for word in sentence]\n",
    "all_lemma_words = [word for sentence in x_train_lemma + x_test_lemma for word in sentence]\n",
    "\n",
    "# Count frequency of words\n",
    "raw_word_counts = Counter(all_raw_words)\n",
    "lemma_word_counts = Counter(all_lemma_words)\n",
    "\n",
    "# Get the top 20 most common words\n",
    "top_20_raw_words = raw_word_counts.most_common(20)\n",
    "top_20_lemma_words = lemma_word_counts.most_common(20)\n",
    "\n",
    "# Separate words and their frequencies for plotting\n",
    "raw_words, raw_frequencies = zip(*top_20_raw_words)\n",
    "lemma_words, lemma_frequencies = zip(*top_20_lemma_words)\n",
    "\n",
    "# Create a side-by-side comparison plot\n",
    "fig, axes = plt.subplots(1, 2, figsize=(14, 6))\n",
    "\n",
    "# Plot for raw words\n",
    "axes[0].barh(raw_words, raw_frequencies, color='lightgreen')\n",
    "axes[0].set_title('Top 20 Raw Words (Before Lemmatization)')\n",
    "axes[0].set_xlabel('Frequency')\n",
    "axes[0].invert_yaxis()  # Invert y-axis to show highest at the top\n",
    "\n",
    "# Plot for lemmatized words\n",
    "axes[1].barh(lemma_words, lemma_frequencies, color='skyblue')\n",
    "axes[1].set_title('Top 20 Lemmatized Words')\n",
    "axes[1].set_xlabel('Frequency')\n",
    "axes[1].invert_yaxis()  # Invert y-axis to show highest at the top\n",
    "\n",
    "plt.tight_layout()\n",
    "plt.show()"
   ]
  },
  {
   "cell_type": "markdown",
   "id": "91845594-9452-4308-b76e-331cf0c46fa2",
   "metadata": {},
   "source": [
    "## Comments on Further Processing of the Data\n",
    "Given the poor performance of Model 1, the section above involves further processing of the data to attempt to improve the performace of the model through the improvement of the input. Some of the techniques that were applied are:\n",
    "1. Decoding the data to qualitatively assess content of reviews\n",
    "2. Stop-word removal and lemmatization: attempts to reduce the sentences and words into the essential components only to improve learning. As we can see from the graph above, some words like 'character' and 'story' got elevated in relevance, while words like 'really' and 'would' regressed, which is a promising.\n",
    "3. We also notice that the characters 'br' is the top word in both versions, which shows the limitations of text translation given that it isn't a legitimate word."
   ]
  },
  {
   "cell_type": "markdown",
   "id": "b16d0922-9b93-4f8f-ac01-56fa902c2a7c",
   "metadata": {},
   "source": [
    "## Model 1 Re-attempted after further processing"
   ]
  },
  {
   "cell_type": "code",
   "execution_count": 39,
   "id": "767f281d-a55c-4e0c-9374-029467153ac4",
   "metadata": {},
   "outputs": [],
   "source": [
    "# Tokenize and pad sequences\n",
    "tokenizer = Tokenizer(num_words=10000)\n",
    "tokenizer.fit_on_texts(x_train_processed)\n",
    "\n",
    "x_train_seq = tokenizer.texts_to_sequences(x_train_processed)\n",
    "x_test_seq = tokenizer.texts_to_sequences(x_test_processed)\n",
    "\n",
    "maxlen = 200  # Maximum sequence length\n",
    "x_train_padded = pad_sequences(x_train_seq, maxlen=maxlen)\n",
    "x_test_padded = pad_sequences(x_test_seq, maxlen=maxlen)\n",
    "\n",
    "from keras.layers import Embedding, SimpleRNN, Dense, LSTM\n",
    "from keras.optimizers import Adam, SGD\n",
    "import matplotlib.pyplot as plt\n",
    "\n",
    "model = Sequential()\n",
    "model.add(Embedding(input_dim=max_vocab, output_dim=128))\n",
    "model.add(LSTM(64, return_sequences=True, activation='relu'))  # Layer 1\n",
    "model.add(LSTM(32, return_sequences=True, activation='relu'))  # Layer 2\n",
    "model.add(LSTM(16, activation='relu'))                         # Layer 3\n",
    "model.add(Dense(1, activation='sigmoid'))  # Output layer for binary classification"
   ]
  },
  {
   "cell_type": "code",
   "execution_count": 40,
   "id": "9cde73c0-ef0b-40f4-9fb3-cac90827416f",
   "metadata": {},
   "outputs": [],
   "source": [
    "model.compile(optimizer='adam', loss='binary_crossentropy', metrics=['accuracy'])"
   ]
  },
  {
   "cell_type": "code",
   "execution_count": 42,
   "id": "e06172e2-3c5b-430e-8932-724613ebe7ad",
   "metadata": {},
   "outputs": [
    {
     "name": "stdout",
     "output_type": "stream",
     "text": [
      "Epoch 1/10\n",
      "\u001b[1m313/313\u001b[0m \u001b[32m━━━━━━━━━━━━━━━━━━━━\u001b[0m\u001b[37m\u001b[0m \u001b[1m39s\u001b[0m 121ms/step - accuracy: 0.6641 - loss: 146273.0938 - val_accuracy: 0.7986 - val_loss: 0.4864\n",
      "Epoch 2/10\n",
      "\u001b[1m313/313\u001b[0m \u001b[32m━━━━━━━━━━━━━━━━━━━━\u001b[0m\u001b[37m\u001b[0m \u001b[1m40s\u001b[0m 128ms/step - accuracy: 0.8386 - loss: 162520320.0000 - val_accuracy: 0.8210 - val_loss: 0.4515\n",
      "Epoch 3/10\n",
      "\u001b[1m313/313\u001b[0m \u001b[32m━━━━━━━━━━━━━━━━━━━━\u001b[0m\u001b[37m\u001b[0m \u001b[1m57s\u001b[0m 184ms/step - accuracy: 0.8516 - loss: nan - val_accuracy: 0.5062 - val_loss: nan\n",
      "Epoch 4/10\n",
      "\u001b[1m313/313\u001b[0m \u001b[32m━━━━━━━━━━━━━━━━━━━━\u001b[0m\u001b[37m\u001b[0m \u001b[1m42s\u001b[0m 135ms/step - accuracy: 0.4969 - loss: nan - val_accuracy: 0.5062 - val_loss: nan\n",
      "Epoch 5/10\n",
      "\u001b[1m313/313\u001b[0m \u001b[32m━━━━━━━━━━━━━━━━━━━━\u001b[0m\u001b[37m\u001b[0m \u001b[1m42s\u001b[0m 133ms/step - accuracy: 0.5013 - loss: nan - val_accuracy: 0.5062 - val_loss: nan\n"
     ]
    },
    {
     "data": {
      "text/plain": [
       "<keras.src.callbacks.history.History at 0x387dcdac0>"
      ]
     },
     "execution_count": 42,
     "metadata": {},
     "output_type": "execute_result"
    }
   ],
   "source": [
    "from keras.callbacks import EarlyStopping\n",
    "early_stopping = EarlyStopping(monitor='val_loss', patience=3, restore_best_weights=True)\n",
    "\n",
    "model.fit(\n",
    "        x_train_padded, y_train, \n",
    "        validation_split=0.2, \n",
    "        epochs=10, \n",
    "        batch_size=64,\n",
    "        verbose=1,\n",
    "        callbacks=[early_stopping]\n",
    "    )"
   ]
  },
  {
   "cell_type": "markdown",
   "id": "a6fc81cc-3cbe-450b-8f54-591ec0ccf4d6",
   "metadata": {},
   "source": [
    "### Evaluation of upgraded model\n",
    "After making upgrades to the input and keeping all other model parameters similar, we notice that epochs 1 and 2 showcase a significant improvement in both training and testing accuracy over the first model. However,the model performance drastically worsened after epoch 2, with the first sign being that the validation accuracy dropped to ~50% in epoch 3 and then training accuracy followed as well in all later epochs. This shows that the model had divergence. This gives low confidence in this model despite the improvements. This is a sign that there is a bigger flaw in the model, and the activation fucntion relu is a prime suspect, since relu either zeroes out or holds on to the actual input value which means that it may be creating exploding gradients with long sequences during backpropagation."
   ]
  },
  {
   "cell_type": "markdown",
   "id": "cde3c828-ebc6-45f6-8855-cdefd975362f",
   "metadata": {},
   "source": [
    "### Models 3 and 4: tanh activation + before and after lemmatization models"
   ]
  },
  {
   "cell_type": "code",
   "execution_count": 47,
   "id": "512ccef2-9fac-4938-a8c4-bd8b87f61301",
   "metadata": {
    "scrolled": true
   },
   "outputs": [
    {
     "name": "stdout",
     "output_type": "stream",
     "text": [
      "Epoch 1/10\n",
      "\u001b[1m313/313\u001b[0m \u001b[32m━━━━━━━━━━━━━━━━━━━━\u001b[0m\u001b[37m\u001b[0m \u001b[1m37s\u001b[0m 116ms/step - accuracy: 0.6923 - loss: 0.5580 - val_accuracy: 0.8578 - val_loss: 0.3521\n",
      "Epoch 2/10\n",
      "\u001b[1m313/313\u001b[0m \u001b[32m━━━━━━━━━━━━━━━━━━━━\u001b[0m\u001b[37m\u001b[0m \u001b[1m37s\u001b[0m 118ms/step - accuracy: 0.8902 - loss: 0.2883 - val_accuracy: 0.8662 - val_loss: 0.3247\n",
      "Epoch 3/10\n",
      "\u001b[1m313/313\u001b[0m \u001b[32m━━━━━━━━━━━━━━━━━━━━\u001b[0m\u001b[37m\u001b[0m \u001b[1m39s\u001b[0m 125ms/step - accuracy: 0.9266 - loss: 0.2007 - val_accuracy: 0.8548 - val_loss: 0.3468\n",
      "Epoch 4/10\n",
      "\u001b[1m313/313\u001b[0m \u001b[32m━━━━━━━━━━━━━━━━━━━━\u001b[0m\u001b[37m\u001b[0m \u001b[1m38s\u001b[0m 123ms/step - accuracy: 0.9505 - loss: 0.1422 - val_accuracy: 0.8630 - val_loss: 0.3714\n",
      "Epoch 5/10\n",
      "\u001b[1m313/313\u001b[0m \u001b[32m━━━━━━━━━━━━━━━━━━━━\u001b[0m\u001b[37m\u001b[0m \u001b[1m38s\u001b[0m 121ms/step - accuracy: 0.9716 - loss: 0.0884 - val_accuracy: 0.8578 - val_loss: 0.4250\n"
     ]
    },
    {
     "data": {
      "text/plain": [
       "<keras.src.callbacks.history.History at 0x382b8f200>"
      ]
     },
     "execution_count": 47,
     "metadata": {},
     "output_type": "execute_result"
    }
   ],
   "source": [
    "model = Sequential()\n",
    "model.add(Embedding(input_dim=max_vocab, output_dim=128))\n",
    "model.add(LSTM(64, return_sequences=True, activation='tanh'))  # Layer 1\n",
    "model.add(LSTM(32, return_sequences=True, activation='tanh'))  # Layer 2\n",
    "model.add(LSTM(16, activation='tanh'))                         # Layer 3\n",
    "model.add(Dense(1, activation='sigmoid'))  # Output layer for binary classification\n",
    "model.compile(optimizer='adam', loss='binary_crossentropy', metrics=['accuracy'])\n",
    "\n",
    "model.fit(\n",
    "        X_train, y_train, \n",
    "        validation_split=0.2, \n",
    "        epochs=10, \n",
    "        batch_size=64,\n",
    "        verbose=1,\n",
    "        callbacks=[early_stopping]\n",
    "    )"
   ]
  },
  {
   "cell_type": "code",
   "execution_count": 48,
   "id": "070a9d93-65eb-4168-a311-8156b0eb11cc",
   "metadata": {},
   "outputs": [
    {
     "name": "stdout",
     "output_type": "stream",
     "text": [
      "Epoch 1/10\n",
      "\u001b[1m313/313\u001b[0m \u001b[32m━━━━━━━━━━━━━━━━━━━━\u001b[0m\u001b[37m\u001b[0m \u001b[1m42s\u001b[0m 130ms/step - accuracy: 0.7572 - loss: 0.4861 - val_accuracy: 0.8726 - val_loss: 0.3129\n",
      "Epoch 2/10\n",
      "\u001b[1m313/313\u001b[0m \u001b[32m━━━━━━━━━━━━━━━━━━━━\u001b[0m\u001b[37m\u001b[0m \u001b[1m40s\u001b[0m 128ms/step - accuracy: 0.9296 - loss: 0.1946 - val_accuracy: 0.8766 - val_loss: 0.3073\n",
      "Epoch 3/10\n",
      "\u001b[1m313/313\u001b[0m \u001b[32m━━━━━━━━━━━━━━━━━━━━\u001b[0m\u001b[37m\u001b[0m \u001b[1m40s\u001b[0m 127ms/step - accuracy: 0.9616 - loss: 0.1159 - val_accuracy: 0.8686 - val_loss: 0.4071\n",
      "Epoch 4/10\n",
      "\u001b[1m313/313\u001b[0m \u001b[32m━━━━━━━━━━━━━━━━━━━━\u001b[0m\u001b[37m\u001b[0m \u001b[1m42s\u001b[0m 133ms/step - accuracy: 0.9759 - loss: 0.0771 - val_accuracy: 0.8680 - val_loss: 0.4464\n",
      "Epoch 5/10\n",
      "\u001b[1m313/313\u001b[0m \u001b[32m━━━━━━━━━━━━━━━━━━━━\u001b[0m\u001b[37m\u001b[0m \u001b[1m41s\u001b[0m 130ms/step - accuracy: 0.9864 - loss: 0.0494 - val_accuracy: 0.8444 - val_loss: 0.4956\n"
     ]
    },
    {
     "data": {
      "text/plain": [
       "<keras.src.callbacks.history.History at 0x3865541a0>"
      ]
     },
     "execution_count": 48,
     "metadata": {},
     "output_type": "execute_result"
    }
   ],
   "source": [
    "model = Sequential()\n",
    "model.add(Embedding(input_dim=max_vocab, output_dim=128))\n",
    "model.add(LSTM(64, return_sequences=True, activation='tanh'))  # Layer 1\n",
    "model.add(LSTM(32, return_sequences=True, activation='tanh'))  # Layer 2\n",
    "model.add(LSTM(16, activation='tanh'))                         # Layer 3\n",
    "model.add(Dense(1, activation='sigmoid'))  # Output layer for binary classification\n",
    "model.compile(optimizer='adam', loss='binary_crossentropy', metrics=['accuracy'])\n",
    "\n",
    "model.fit(\n",
    "        x_train_padded, y_train, \n",
    "        validation_split=0.2, \n",
    "        epochs=10, \n",
    "        batch_size=64,\n",
    "        verbose=1,\n",
    "        callbacks=[early_stopping]\n",
    "        )"
   ]
  },
  {
   "cell_type": "markdown",
   "id": "3497e559-e94f-439a-9d37-8b60bfa23eb9",
   "metadata": {},
   "source": [
    "### Model 3 and 4 Performance\n",
    "Next, we attempted 'tanh' which is a more commonly used activation function with RNNs than relu, due to  its ability to generate an output between -1 and 1, that is centered around 0, which leads to faster convergence, as evidenced by a highly consistent validation accuracy from the first few epochs and avoids exploding gradients issues that were observed with relu. However, we also noticed that the training accuracy kept increasing substantially throughout epochs while validation remained constant, which means that the network was becoming prone to overfitting.\n",
    "We do not notice a major differnce between model 3, which uses the x_train data which has the basic keras embedding without additional processing, and model 4, which includes stop-word removal and lemmatization. However, we do obvserve the highest validation accuracy in the lemmatized model in epoch 2, which is a sign that the further processing may be helping. "
   ]
  },
  {
   "cell_type": "markdown",
   "id": "26087a12-901e-4efb-b0aa-6c793c3023e3",
   "metadata": {},
   "source": [
    "### Model 5 and 6: Attempts to reduce overfitting using lower batch size"
   ]
  },
  {
   "cell_type": "code",
   "execution_count": 59,
   "id": "4febd7ae-fd89-4e0f-b3be-d3622fbf62cd",
   "metadata": {},
   "outputs": [
    {
     "name": "stdout",
     "output_type": "stream",
     "text": [
      "Epoch 1/10\n",
      "\u001b[1m625/625\u001b[0m \u001b[32m━━━━━━━━━━━━━━━━━━━━\u001b[0m\u001b[37m\u001b[0m \u001b[1m47s\u001b[0m 74ms/step - accuracy: 0.7147 - loss: 0.5311 - val_accuracy: 0.8384 - val_loss: 0.3716\n",
      "Epoch 2/10\n",
      "\u001b[1m625/625\u001b[0m \u001b[32m━━━━━━━━━━━━━━━━━━━━\u001b[0m\u001b[37m\u001b[0m \u001b[1m46s\u001b[0m 73ms/step - accuracy: 0.8939 - loss: 0.2742 - val_accuracy: 0.8634 - val_loss: 0.3454\n",
      "Epoch 3/10\n",
      "\u001b[1m625/625\u001b[0m \u001b[32m━━━━━━━━━━━━━━━━━━━━\u001b[0m\u001b[37m\u001b[0m \u001b[1m46s\u001b[0m 74ms/step - accuracy: 0.9371 - loss: 0.1798 - val_accuracy: 0.8698 - val_loss: 0.3665\n",
      "Epoch 4/10\n",
      "\u001b[1m625/625\u001b[0m \u001b[32m━━━━━━━━━━━━━━━━━━━━\u001b[0m\u001b[37m\u001b[0m \u001b[1m45s\u001b[0m 72ms/step - accuracy: 0.9536 - loss: 0.1348 - val_accuracy: 0.8610 - val_loss: 0.4443\n",
      "Epoch 5/10\n",
      "\u001b[1m625/625\u001b[0m \u001b[32m━━━━━━━━━━━━━━━━━━━━\u001b[0m\u001b[37m\u001b[0m \u001b[1m45s\u001b[0m 72ms/step - accuracy: 0.9701 - loss: 0.0951 - val_accuracy: 0.8640 - val_loss: 0.4093\n"
     ]
    },
    {
     "data": {
      "text/plain": [
       "<keras.src.callbacks.history.History at 0x386b881d0>"
      ]
     },
     "execution_count": 59,
     "metadata": {},
     "output_type": "execute_result"
    }
   ],
   "source": [
    "model = Sequential()\n",
    "model.add(Embedding(input_dim=max_vocab, output_dim=128))\n",
    "model.add(LSTM(64, return_sequences=True, activation='tanh'))  # Layer 1\n",
    "model.add(LSTM(32, return_sequences=True, activation='tanh'))  # Layer 2\n",
    "model.add(LSTM(16, activation='tanh'))                         # Layer 3\n",
    "model.add(Dense(1, activation='sigmoid'))  # Output layer for binary classification\n",
    "model.compile(optimizer='adam', loss='binary_crossentropy', metrics=['accuracy'])\n",
    "\n",
    "model.fit(\n",
    "        X_train, y_train, \n",
    "        validation_split=0.2, \n",
    "        epochs=10, \n",
    "        batch_size=32,\n",
    "        verbose=1,\n",
    "        callbacks=[early_stopping]\n",
    "    )"
   ]
  },
  {
   "cell_type": "code",
   "execution_count": 62,
   "id": "ed823389-10f7-49bb-84b6-3def9700d158",
   "metadata": {},
   "outputs": [
    {
     "name": "stdout",
     "output_type": "stream",
     "text": [
      "\u001b[1m782/782\u001b[0m \u001b[32m━━━━━━━━━━━━━━━━━━━━\u001b[0m\u001b[37m\u001b[0m \u001b[1m15s\u001b[0m 19ms/step - accuracy: 0.8545 - loss: 0.3535\n"
     ]
    },
    {
     "data": {
      "text/plain": [
       "[0.3506384789943695, 0.8550800085067749]"
      ]
     },
     "execution_count": 62,
     "metadata": {},
     "output_type": "execute_result"
    }
   ],
   "source": [
    "model.evaluate(X_test, y_test)"
   ]
  },
  {
   "cell_type": "code",
   "execution_count": 63,
   "id": "1fc49ab2-9233-494f-b6da-4d1550bb1cc9",
   "metadata": {},
   "outputs": [
    {
     "name": "stdout",
     "output_type": "stream",
     "text": [
      "Epoch 1/10\n",
      "\u001b[1m625/625\u001b[0m \u001b[32m━━━━━━━━━━━━━━━━━━━━\u001b[0m\u001b[37m\u001b[0m \u001b[1m46s\u001b[0m 73ms/step - accuracy: 0.7637 - loss: 0.4740 - val_accuracy: 0.8724 - val_loss: 0.3112\n",
      "Epoch 2/10\n",
      "\u001b[1m625/625\u001b[0m \u001b[32m━━━━━━━━━━━━━━━━━━━━\u001b[0m\u001b[37m\u001b[0m \u001b[1m46s\u001b[0m 73ms/step - accuracy: 0.9180 - loss: 0.2181 - val_accuracy: 0.8794 - val_loss: 0.3063\n",
      "Epoch 3/10\n",
      "\u001b[1m625/625\u001b[0m \u001b[32m━━━━━━━━━━━━━━━━━━━━\u001b[0m\u001b[37m\u001b[0m \u001b[1m47s\u001b[0m 76ms/step - accuracy: 0.9483 - loss: 0.1384 - val_accuracy: 0.8638 - val_loss: 0.3940\n",
      "Epoch 4/10\n",
      "\u001b[1m625/625\u001b[0m \u001b[32m━━━━━━━━━━━━━━━━━━━━\u001b[0m\u001b[37m\u001b[0m \u001b[1m45s\u001b[0m 72ms/step - accuracy: 0.9762 - loss: 0.0811 - val_accuracy: 0.8646 - val_loss: 0.3820\n",
      "Epoch 5/10\n",
      "\u001b[1m625/625\u001b[0m \u001b[32m━━━━━━━━━━━━━━━━━━━━\u001b[0m\u001b[37m\u001b[0m \u001b[1m48s\u001b[0m 76ms/step - accuracy: 0.9838 - loss: 0.0556 - val_accuracy: 0.8580 - val_loss: 0.4831\n"
     ]
    },
    {
     "data": {
      "text/plain": [
       "<keras.src.callbacks.history.History at 0x38ac7dbe0>"
      ]
     },
     "execution_count": 63,
     "metadata": {},
     "output_type": "execute_result"
    }
   ],
   "source": [
    "model = Sequential()\n",
    "model.add(Embedding(input_dim=max_vocab, output_dim=128))\n",
    "model.add(LSTM(64, return_sequences=True, activation='tanh'))  # Layer 1\n",
    "model.add(LSTM(32, return_sequences=True, activation='tanh'))  # Layer 2\n",
    "model.add(LSTM(16, activation='tanh'))                         # Layer 3\n",
    "model.add(Dense(1, activation='sigmoid'))  # Output layer for binary classification\n",
    "model.compile(optimizer='adam', loss='binary_crossentropy', metrics=['accuracy'])\n",
    "\n",
    "model.fit(\n",
    "        x_train_padded, y_train, \n",
    "        validation_split=0.2, \n",
    "        epochs=10, \n",
    "        batch_size=32,\n",
    "        verbose=1,\n",
    "        callbacks=[early_stopping]\n",
    "    )"
   ]
  },
  {
   "cell_type": "code",
   "execution_count": 64,
   "id": "3f521bd0-91ae-4f95-a867-504317de5d35",
   "metadata": {},
   "outputs": [
    {
     "name": "stdout",
     "output_type": "stream",
     "text": [
      "\u001b[1m782/782\u001b[0m \u001b[32m━━━━━━━━━━━━━━━━━━━━\u001b[0m\u001b[37m\u001b[0m \u001b[1m15s\u001b[0m 19ms/step - accuracy: 0.8584 - loss: 0.3348\n"
     ]
    },
    {
     "data": {
      "text/plain": [
       "[0.3325064182281494, 0.8606399893760681]"
      ]
     },
     "execution_count": 64,
     "metadata": {},
     "output_type": "execute_result"
    }
   ],
   "source": [
    "model.evaluate(x_test_padded, y_test)"
   ]
  },
  {
   "cell_type": "markdown",
   "id": "ae040ca8-e977-4976-af60-e52e969eb444",
   "metadata": {},
   "source": [
    "### Model 5 and 6 Performance \n",
    "We attempted to further reduce the batch size to 32 from 64 reduce the overfitting issue observed in model 3 and 4, and it seemed to slightly help with training and validation accuracy if the models are compared H2H per epoch. We also notice a consistent albeit minimal increase in validation and test accuracy with stop-word and lemmatized model (using x_train_padded as input)\n"
   ]
  },
  {
   "cell_type": "markdown",
   "id": "6da5a52d-1147-4154-8d0f-91b1be072ab0",
   "metadata": {},
   "source": [
    "### Model 6: Using GloVe pre-trained embeddings for model optimization"
   ]
  },
  {
   "cell_type": "code",
   "execution_count": 95,
   "id": "d1f1d3be-8a7d-4bf8-96ff-73317f008056",
   "metadata": {},
   "outputs": [
    {
     "name": "stdout",
     "output_type": "stream",
     "text": [
      "Loaded 2195885 word vectors.\n",
      "Epoch 1/10\n",
      "\u001b[1m625/625\u001b[0m \u001b[32m━━━━━━━━━━━━━━━━━━━━\u001b[0m\u001b[37m\u001b[0m \u001b[1m52s\u001b[0m 81ms/step - accuracy: 0.7688 - loss: 0.4854 - val_accuracy: 0.8586 - val_loss: 0.3547\n",
      "Epoch 2/10\n",
      "\u001b[1m625/625\u001b[0m \u001b[32m━━━━━━━━━━━━━━━━━━━━\u001b[0m\u001b[37m\u001b[0m \u001b[1m51s\u001b[0m 82ms/step - accuracy: 0.8437 - loss: 0.3603 - val_accuracy: 0.8704 - val_loss: 0.3158\n",
      "Epoch 3/10\n",
      "\u001b[1m625/625\u001b[0m \u001b[32m━━━━━━━━━━━━━━━━━━━━\u001b[0m\u001b[37m\u001b[0m \u001b[1m52s\u001b[0m 82ms/step - accuracy: 0.8766 - loss: 0.3020 - val_accuracy: 0.8766 - val_loss: 0.2939\n",
      "Epoch 4/10\n",
      "\u001b[1m625/625\u001b[0m \u001b[32m━━━━━━━━━━━━━━━━━━━━\u001b[0m\u001b[37m\u001b[0m \u001b[1m54s\u001b[0m 87ms/step - accuracy: 0.8915 - loss: 0.2699 - val_accuracy: 0.8770 - val_loss: 0.3085\n",
      "Epoch 5/10\n",
      "\u001b[1m625/625\u001b[0m \u001b[32m━━━━━━━━━━━━━━━━━━━━\u001b[0m\u001b[37m\u001b[0m \u001b[1m52s\u001b[0m 83ms/step - accuracy: 0.8831 - loss: 0.2936 - val_accuracy: 0.8804 - val_loss: 0.3036\n",
      "Epoch 6/10\n",
      "\u001b[1m625/625\u001b[0m \u001b[32m━━━━━━━━━━━━━━━━━━━━\u001b[0m\u001b[37m\u001b[0m \u001b[1m53s\u001b[0m 85ms/step - accuracy: 0.9041 - loss: 0.2429 - val_accuracy: 0.8826 - val_loss: 0.2904\n",
      "Epoch 7/10\n",
      "\u001b[1m625/625\u001b[0m \u001b[32m━━━━━━━━━━━━━━━━━━━━\u001b[0m\u001b[37m\u001b[0m \u001b[1m54s\u001b[0m 86ms/step - accuracy: 0.9136 - loss: 0.2202 - val_accuracy: 0.8862 - val_loss: 0.2984\n",
      "Epoch 8/10\n",
      "\u001b[1m625/625\u001b[0m \u001b[32m━━━━━━━━━━━━━━━━━━━━\u001b[0m\u001b[37m\u001b[0m \u001b[1m53s\u001b[0m 85ms/step - accuracy: 0.9270 - loss: 0.1899 - val_accuracy: 0.8836 - val_loss: 0.2946\n",
      "Epoch 9/10\n",
      "\u001b[1m625/625\u001b[0m \u001b[32m━━━━━━━━━━━━━━━━━━━━\u001b[0m\u001b[37m\u001b[0m \u001b[1m52s\u001b[0m 83ms/step - accuracy: 0.9442 - loss: 0.1556 - val_accuracy: 0.8850 - val_loss: 0.3175\n"
     ]
    }
   ],
   "source": [
    "import os\n",
    "\n",
    "# Load GloVe embeddings\n",
    "embedding_dim = 300\n",
    "embedding_index = {}\n",
    "glove_path = '/Users/mohamedhelayhel/Desktop/glove.840B.300d.txt'  # Updated with the path to GloVe on local PC\n",
    "\n",
    "with open(glove_path, 'r', encoding='utf-8') as file:\n",
    "    for line in file:\n",
    "        # Strip whitespace and check if line is valid\n",
    "        line = line.strip()\n",
    "        if not line:\n",
    "            continue  # Skip blank lines\n",
    "        \n",
    "        # Split the line into word and vector\n",
    "        values = line.split()\n",
    "        \n",
    "        # Ensure the line has the correct number of dimensions (word + embeddings)\n",
    "        word = values[0]\n",
    "        try:\n",
    "            coefs = np.asarray(values[1:], dtype='float32')\n",
    "            embedding_index[word] = coefs\n",
    "        except ValueError:\n",
    "            pass # Silently skip invalid lines\n",
    "\n",
    "print(f\"Loaded {len(embedding_index)} word vectors.\")\n",
    "\n",
    "# Create embedding matrix\n",
    "word_index = tokenizer.word_index\n",
    "embedding_matrix = np.zeros((10000, embedding_dim))\n",
    "for word, idx in word_index.items():\n",
    "    if idx < 10000:\n",
    "        vector = embedding_index.get(word)\n",
    "        if vector is not None:\n",
    "            embedding_matrix[idx] = vector\n",
    "\n",
    "# Update model with pre-trained embeddings\n",
    "def create_glove_model():\n",
    "    model = Sequential([\n",
    "        Embedding(input_dim=10000, output_dim=embedding_dim, input_length=maxlen, \n",
    "                  weights=[embedding_matrix], trainable=False),\n",
    "        LSTM(64, return_sequences=True,activation='tanh'),\n",
    "        LSTM(32, return_sequences=True,activation='tanh'),\n",
    "        LSTM(16, activation='tanh'),\n",
    "        Dense(1, activation='sigmoid')\n",
    "    ])\n",
    "    model.compile(optimizer='adam', loss='binary_crossentropy', metrics=['accuracy'])\n",
    "    return model\n",
    "\n",
    "model_glove = create_glove_model()\n",
    "history_glove = model_glove.fit(\n",
    "    x_train_padded, y_train,\n",
    "    validation_split=0.2,\n",
    "    epochs=10,\n",
    "    batch_size=32,\n",
    "    verbose=1,\n",
    "    callbacks=[early_stopping]\n",
    ")"
   ]
  },
  {
   "cell_type": "code",
   "execution_count": 103,
   "id": "1d722495-980e-463b-baee-df2658042c39",
   "metadata": {},
   "outputs": [
    {
     "name": "stdout",
     "output_type": "stream",
     "text": [
      "\u001b[1m782/782\u001b[0m \u001b[32m━━━━━━━━━━━━━━━━━━━━\u001b[0m\u001b[37m\u001b[0m \u001b[1m23s\u001b[0m 30ms/step - accuracy: 0.8868 - loss: 0.2744\n"
     ]
    },
    {
     "data": {
      "text/plain": [
       "[0.2715873122215271, 0.8877599835395813]"
      ]
     },
     "execution_count": 103,
     "metadata": {},
     "output_type": "execute_result"
    }
   ],
   "source": [
    "model_glove.evaluate(x_test_padded, y_test)"
   ]
  },
  {
   "cell_type": "markdown",
   "id": "600df1a3-f584-4dab-89fd-941d2b8087c7",
   "metadata": {},
   "source": [
    "### Model 6: Glove\n",
    "Glove was retreived from github (link: https://github.com/stanfordnlp/GloVe) and used for embeddings to train the model instead of the standard keras embedding tool. GloVe aims to combine the strengths of two popular word embedding techniques:\n",
    "1. Count-based methods (e.g., co-occurrence matrix, Latent Semantic Analysis): Capture global statistics of word co-occurrence\n",
    "2. Predictive methods (e.g., Word2Vec): Use context to predict words in a local window, producing dense, low-dimensional embeddings\n",
    "   \n",
    "What we observe here is that the test accuracy rises to 89% from 86% keeping everything else about the model consistent which shows that glove is helping"
   ]
  },
  {
   "cell_type": "markdown",
   "id": "4bb89d18-4b26-4629-be18-a08c0d0e5689",
   "metadata": {},
   "source": [
    "## Model 7: Glove with further augmentation of training data"
   ]
  },
  {
   "cell_type": "code",
   "execution_count": 100,
   "id": "177b0739-753e-423b-a2c7-fa40536a73ef",
   "metadata": {},
   "outputs": [],
   "source": [
    "from nltk.corpus import wordnet\n",
    "\n",
    "def synonym_replacement(text, n=2):\n",
    "    words = text.split()\n",
    "    for _ in range(n):\n",
    "        idx = np.random.randint(0, len(words))\n",
    "        synonyms = wordnet.synsets(words[idx])\n",
    "        if synonyms:\n",
    "            synonym = synonyms[0].lemmas()[0].name()\n",
    "            if synonym != words[idx]:\n",
    "                words[idx] = synonym\n",
    "    return ' '.join(words)\n",
    "\n",
    "# Apply augmentation to training data\n",
    "x_train_augmented = [synonym_replacement(text) for text in x_train_processed[:5000]]  # Subset for efficiency\n",
    "y_train_augmented = y_train[:5000]\n",
    "\n",
    "# Combine with original data\n",
    "x_train_combined = x_train_processed + x_train_augmented\n",
    "y_train_combined = np.concatenate([y_train, y_train_augmented])\n",
    "\n",
    "# Re-tokenize and pad augmented data\n",
    "x_train_seq_aug = tokenizer.texts_to_sequences(x_train_combined)\n",
    "x_train_padded_aug = pad_sequences(x_train_seq_aug, maxlen=maxlen)"
   ]
  },
  {
   "cell_type": "code",
   "execution_count": null,
   "id": "cde5726b-d2b1-4913-8999-dadca5af05d9",
   "metadata": {},
   "outputs": [
    {
     "name": "stdout",
     "output_type": "stream",
     "text": [
      "Epoch 1/10\n",
      "\u001b[1m750/750\u001b[0m \u001b[32m━━━━━━━━━━━━━━━━━━━━\u001b[0m\u001b[37m\u001b[0m \u001b[1m60s\u001b[0m 79ms/step - accuracy: 0.7801 - loss: 0.4732 - val_accuracy: 0.8248 - val_loss: 0.3793\n",
      "Epoch 2/10\n",
      "\u001b[1m750/750\u001b[0m \u001b[32m━━━━━━━━━━━━━━━━━━━━\u001b[0m\u001b[37m\u001b[0m \u001b[1m57s\u001b[0m 76ms/step - accuracy: 0.8597 - loss: 0.3317 - val_accuracy: 0.8842 - val_loss: 0.2786\n",
      "Epoch 3/10\n",
      "\u001b[1m750/750\u001b[0m \u001b[32m━━━━━━━━━━━━━━━━━━━━\u001b[0m\u001b[37m\u001b[0m \u001b[1m62s\u001b[0m 82ms/step - accuracy: 0.8683 - loss: 0.3144 - val_accuracy: 0.8868 - val_loss: 0.2871\n",
      "Epoch 4/10\n",
      "\u001b[1m750/750\u001b[0m \u001b[32m━━━━━━━━━━━━━━━━━━━━\u001b[0m\u001b[37m\u001b[0m \u001b[1m61s\u001b[0m 82ms/step - accuracy: 0.8923 - loss: 0.2668 - val_accuracy: 0.8972 - val_loss: 0.2531\n",
      "Epoch 5/10\n",
      "\u001b[1m750/750\u001b[0m \u001b[32m━━━━━━━━━━━━━━━━━━━━\u001b[0m\u001b[37m\u001b[0m \u001b[1m60s\u001b[0m 80ms/step - accuracy: 0.9013 - loss: 0.2378 - val_accuracy: 0.9052 - val_loss: 0.2277\n",
      "Epoch 6/10\n",
      "\u001b[1m750/750\u001b[0m \u001b[32m━━━━━━━━━━━━━━━━━━━━\u001b[0m\u001b[37m\u001b[0m \u001b[1m61s\u001b[0m 82ms/step - accuracy: 0.9165 - loss: 0.2087 - val_accuracy: 0.9238 - val_loss: 0.2027\n",
      "Epoch 7/10\n",
      "\u001b[1m750/750\u001b[0m \u001b[32m━━━━━━━━━━━━━━━━━━━━\u001b[0m\u001b[37m\u001b[0m \u001b[1m60s\u001b[0m 80ms/step - accuracy: 0.9317 - loss: 0.1770 - val_accuracy: 0.9063 - val_loss: 0.2332\n",
      "Epoch 8/10\n",
      "\u001b[1m750/750\u001b[0m \u001b[32m━━━━━━━━━━━━━━━━━━━━\u001b[0m\u001b[37m\u001b[0m \u001b[1m60s\u001b[0m 79ms/step - accuracy: 0.9465 - loss: 0.1471 - val_accuracy: 0.9438 - val_loss: 0.1585\n",
      "Epoch 9/10\n",
      "\u001b[1m750/750\u001b[0m \u001b[32m━━━━━━━━━━━━━━━━━━━━\u001b[0m\u001b[37m\u001b[0m \u001b[1m59s\u001b[0m 79ms/step - accuracy: 0.9612 - loss: 0.1078 - val_accuracy: 0.9587 - val_loss: 0.1338\n",
      "Epoch 10/10\n",
      "\u001b[1m160/750\u001b[0m \u001b[32m━━━━\u001b[0m\u001b[37m━━━━━━━━━━━━━━━━\u001b[0m \u001b[1m42s\u001b[0m 73ms/step - accuracy: 0.9738 - loss: 0.0833"
     ]
    }
   ],
   "source": [
    "model_aug = create_glove_model()\n",
    "history_aug = model_aug.fit(\n",
    "    x_train_padded_aug, y_train_combined,\n",
    "    validation_split=0.2,\n",
    "    epochs=10,\n",
    "    batch_size=32,\n",
    "    verbose=1,\n",
    "    callbacks=[early_stopping]\n",
    ")"
   ]
  },
  {
   "cell_type": "code",
   "execution_count": 116,
   "id": "630e2ec2-7be9-42d8-985e-0db47022ba50",
   "metadata": {},
   "outputs": [
    {
     "name": "stdout",
     "output_type": "stream",
     "text": [
      "\u001b[1m782/782\u001b[0m \u001b[32m━━━━━━━━━━━━━━━━━━━━\u001b[0m\u001b[37m\u001b[0m \u001b[1m23s\u001b[0m 29ms/step - accuracy: 0.8732 - loss: 0.3630\n"
     ]
    },
    {
     "data": {
      "text/plain": [
       "[0.3595157861709595, 0.8763999938964844]"
      ]
     },
     "execution_count": 116,
     "metadata": {},
     "output_type": "execute_result"
    }
   ],
   "source": [
    "model_aug.evaluate(x_test_padded, y_test)"
   ]
  },
  {
   "cell_type": "code",
   "execution_count": 118,
   "id": "ae0704d3-a6ee-4b80-a4be-322a77247230",
   "metadata": {},
   "outputs": [
    {
     "data": {
      "image/png": "[encoded data removed]",
      "text/plain": [
       "<Figure size 640x480 with 1 Axes>"
      ]
     },
     "metadata": {},
     "output_type": "display_data"
    }
   ],
   "source": [
    "# Plot validation accuracy\n",
    "plt.plot(history_glove.history['val_accuracy'], label='GloVe Model')\n",
    "plt.plot(history_aug.history['val_accuracy'], label='GloVe + Augmentation')\n",
    "plt.title('Validation Accuracy Comparison')\n",
    "plt.xlabel('Epochs')\n",
    "plt.ylabel('Accuracy')\n",
    "plt.legend()\n",
    "plt.show()"
   ]
  },
  {
   "cell_type": "code",
   "execution_count": null,
   "id": "8ead2f27-b6b5-4e33-9775-8d28f11fffb8",
   "metadata": {},
   "outputs": [],
   "source": []
  },
  {
   "cell_type": "markdown",
   "id": "eee16925-ecbf-4a5a-84a6-bcc4d1302117",
   "metadata": {},
   "source": [
    "## Evaluation of GloVe augmented model:\n",
    "What we notice is sharp increase in validation accuracy for the augmented model, despite seeing reduced test accuracy from the GloVe only model, which points to a design error in the network. The augmentation that was done involved synonym replacement for a subset of the dataset and adding it to the original dataset. However, it also involves adding 5000 additional training datapoints for the output (y_train augmented). This means that the culprit for the discrepancy between validation and test accuracy for the augmented model comes from the use of altered data in the validation (training data was split into 80% for training and 20% for validation). To fix this issue, the validation data needs to be modified in the following iterations."
   ]
  },
  {
   "cell_type": "markdown",
   "id": "9b5e1ec1-1fde-4c41-9ddc-97c8e6db2d2d",
   "metadata": {},
   "source": [
    "## Augemented GloVe Model using unseen validation data"
   ]
  },
  {
   "cell_type": "code",
   "execution_count": 120,
   "id": "6f4b626a-a2eb-4ed6-bf81-b29436e32c00",
   "metadata": {},
   "outputs": [
    {
     "name": "stdout",
     "output_type": "stream",
     "text": [
      "Epoch 1/10\n",
      "\u001b[1m938/938\u001b[0m \u001b[32m━━━━━━━━━━━━━━━━━━━━\u001b[0m\u001b[37m\u001b[0m \u001b[1m97s\u001b[0m 103ms/step - accuracy: 0.7803 - loss: 0.4657 - val_accuracy: 0.8500 - val_loss: 0.3530\n",
      "Epoch 2/10\n",
      "\u001b[1m938/938\u001b[0m \u001b[32m━━━━━━━━━━━━━━━━━━━━\u001b[0m\u001b[37m\u001b[0m \u001b[1m140s\u001b[0m 150ms/step - accuracy: 0.8690 - loss: 0.3084 - val_accuracy: 0.8644 - val_loss: 0.3184\n",
      "Epoch 3/10\n",
      "\u001b[1m938/938\u001b[0m \u001b[32m━━━━━━━━━━━━━━━━━━━━\u001b[0m\u001b[37m\u001b[0m \u001b[1m97s\u001b[0m 104ms/step - accuracy: 0.8887 - loss: 0.2702 - val_accuracy: 0.8924 - val_loss: 0.2681\n",
      "Epoch 4/10\n",
      "\u001b[1m938/938\u001b[0m \u001b[32m━━━━━━━━━━━━━━━━━━━━\u001b[0m\u001b[37m\u001b[0m \u001b[1m95s\u001b[0m 101ms/step - accuracy: 0.9125 - loss: 0.2221 - val_accuracy: 0.8922 - val_loss: 0.2629\n",
      "Epoch 5/10\n",
      "\u001b[1m938/938\u001b[0m \u001b[32m━━━━━━━━━━━━━━━━━━━━\u001b[0m\u001b[37m\u001b[0m \u001b[1m93s\u001b[0m 100ms/step - accuracy: 0.9282 - loss: 0.1867 - val_accuracy: 0.8851 - val_loss: 0.2855\n",
      "Epoch 6/10\n",
      "\u001b[1m938/938\u001b[0m \u001b[32m━━━━━━━━━━━━━━━━━━━━\u001b[0m\u001b[37m\u001b[0m \u001b[1m93s\u001b[0m 100ms/step - accuracy: 0.9450 - loss: 0.1464 - val_accuracy: 0.8760 - val_loss: 0.3334\n",
      "Epoch 7/10\n",
      "\u001b[1m938/938\u001b[0m \u001b[32m━━━━━━━━━━━━━━━━━━━━\u001b[0m\u001b[37m\u001b[0m \u001b[1m93s\u001b[0m 99ms/step - accuracy: 0.9609 - loss: 0.1137 - val_accuracy: 0.8791 - val_loss: 0.3408\n"
     ]
    }
   ],
   "source": [
    "model_aug = create_glove_model()\n",
    "history_aug = model_aug.fit(\n",
    "    x_train_padded_aug, y_train_combined,\n",
    "    validation_data=(x_test_padded, y_test),\n",
    "    epochs=10,\n",
    "    batch_size=32,\n",
    "    verbose=1,\n",
    "    callbacks=[early_stopping]\n",
    ")"
   ]
  },
  {
   "cell_type": "code",
   "execution_count": 129,
   "id": "933f2cdf-435a-4699-89b0-4bd04ee49e6a",
   "metadata": {},
   "outputs": [
    {
     "name": "stdout",
     "output_type": "stream",
     "text": [
      "\u001b[1m782/782\u001b[0m \u001b[32m━━━━━━━━━━━━━━━━━━━━\u001b[0m\u001b[37m\u001b[0m \u001b[1m24s\u001b[0m 31ms/step - accuracy: 0.8889 - loss: 0.2672\n"
     ]
    },
    {
     "data": {
      "text/plain": [
       "[0.2628534734249115, 0.8921999931335449]"
      ]
     },
     "execution_count": 129,
     "metadata": {},
     "output_type": "execute_result"
    }
   ],
   "source": [
    "model_aug.evaluate(x_test_padded, y_test)"
   ]
  },
  {
   "cell_type": "markdown",
   "id": "2c5200ad-9b49-4cef-a6b9-e662f9868ea9",
   "metadata": {},
   "source": [
    "## Original GloVe Model using unseen validation data "
   ]
  },
  {
   "cell_type": "code",
   "execution_count": 124,
   "id": "1ad391ff-5ce4-470d-bcd6-9c2723b2f496",
   "metadata": {},
   "outputs": [
    {
     "name": "stdout",
     "output_type": "stream",
     "text": [
      "Epoch 1/10\n",
      "\u001b[1m782/782\u001b[0m \u001b[32m━━━━━━━━━━━━━━━━━━━━\u001b[0m\u001b[37m\u001b[0m \u001b[1m88s\u001b[0m 111ms/step - accuracy: 0.7764 - loss: 0.4715 - val_accuracy: 0.8563 - val_loss: 0.3441\n",
      "Epoch 2/10\n",
      "\u001b[1m782/782\u001b[0m \u001b[32m━━━━━━━━━━━━━━━━━━━━\u001b[0m\u001b[37m\u001b[0m \u001b[1m87s\u001b[0m 111ms/step - accuracy: 0.8599 - loss: 0.3322 - val_accuracy: 0.8730 - val_loss: 0.3148\n",
      "Epoch 3/10\n",
      "\u001b[1m782/782\u001b[0m \u001b[32m━━━━━━━━━━━━━━━━━━━━\u001b[0m\u001b[37m\u001b[0m \u001b[1m86s\u001b[0m 110ms/step - accuracy: 0.8807 - loss: 0.2906 - val_accuracy: 0.8788 - val_loss: 0.2907\n",
      "Epoch 4/10\n",
      "\u001b[1m782/782\u001b[0m \u001b[32m━━━━━━━━━━━━━━━━━━━━\u001b[0m\u001b[37m\u001b[0m \u001b[1m87s\u001b[0m 112ms/step - accuracy: 0.8918 - loss: 0.2661 - val_accuracy: 0.8834 - val_loss: 0.2714\n",
      "Epoch 5/10\n",
      "\u001b[1m782/782\u001b[0m \u001b[32m━━━━━━━━━━━━━━━━━━━━\u001b[0m\u001b[37m\u001b[0m \u001b[1m87s\u001b[0m 112ms/step - accuracy: 0.9052 - loss: 0.2292 - val_accuracy: 0.8900 - val_loss: 0.2696\n",
      "Epoch 6/10\n",
      "\u001b[1m782/782\u001b[0m \u001b[32m━━━━━━━━━━━━━━━━━━━━\u001b[0m\u001b[37m\u001b[0m \u001b[1m90s\u001b[0m 115ms/step - accuracy: 0.9129 - loss: 0.2146 - val_accuracy: 0.8875 - val_loss: 0.2793\n",
      "Epoch 7/10\n",
      "\u001b[1m782/782\u001b[0m \u001b[32m━━━━━━━━━━━━━━━━━━━━\u001b[0m\u001b[37m\u001b[0m \u001b[1m88s\u001b[0m 113ms/step - accuracy: 0.9291 - loss: 0.1845 - val_accuracy: 0.8890 - val_loss: 0.2834\n",
      "Epoch 8/10\n",
      "\u001b[1m782/782\u001b[0m \u001b[32m━━━━━━━━━━━━━━━━━━━━\u001b[0m\u001b[37m\u001b[0m \u001b[1m88s\u001b[0m 112ms/step - accuracy: 0.9459 - loss: 0.1485 - val_accuracy: 0.8873 - val_loss: 0.3019\n"
     ]
    }
   ],
   "source": [
    "model_glove = create_glove_model()\n",
    "history_glove = model_glove.fit(\n",
    "    x_train_padded, y_train,\n",
    "    validation_data=(x_test_padded, y_test),\n",
    "    epochs=10,\n",
    "    batch_size=32,\n",
    "    verbose=1,\n",
    "    callbacks=[early_stopping]\n",
    ")"
   ]
  },
  {
   "cell_type": "code",
   "execution_count": 131,
   "id": "95b72d23-361e-4a51-86e8-f04f67910f02",
   "metadata": {},
   "outputs": [
    {
     "name": "stdout",
     "output_type": "stream",
     "text": [
      "\u001b[1m782/782\u001b[0m \u001b[32m━━━━━━━━━━━━━━━━━━━━\u001b[0m\u001b[37m\u001b[0m \u001b[1m24s\u001b[0m 31ms/step - accuracy: 0.8859 - loss: 0.2748\n"
     ]
    },
    {
     "data": {
      "text/plain": [
       "[0.26964321732521057, 0.889959990978241]"
      ]
     },
     "execution_count": 131,
     "metadata": {},
     "output_type": "execute_result"
    }
   ],
   "source": [
    "model_glove.evaluate(x_test_padded, y_test)"
   ]
  },
  {
   "cell_type": "code",
   "execution_count": 125,
   "id": "63cb8e88-a4fe-4767-9626-be358f913235",
   "metadata": {},
   "outputs": [
    {
     "data": {
      "image/png": "[encoded data removed]",
      "text/plain": [
       "<Figure size 640x480 with 1 Axes>"
      ]
     },
     "metadata": {},
     "output_type": "display_data"
    }
   ],
   "source": [
    "# Plot validation accuracy\n",
    "plt.plot(history_glove.history['val_accuracy'], label='GloVe Model')\n",
    "plt.plot(history_aug.history['val_accuracy'], label='GloVe + Augmentation')\n",
    "plt.title('Validation Accuracy Comparison')\n",
    "plt.xlabel('Epochs')\n",
    "plt.ylabel('Accuracy')\n",
    "plt.legend()\n",
    "plt.show()"
   ]
  },
  {
   "cell_type": "markdown",
   "id": "06ab7f4b-943c-4974-a968-a6f752edfbb8",
   "metadata": {},
   "source": [
    "### Evaluation and conclusion\n",
    "After the use of the test data for validation instead of the training data 80-20, we notice that the validation accuracy returns to normal, wherein it matches the test accuracy and comes close to the original Glove Model as can be seen in the graph above. This shows that it is crucial to remain aware of what is being fed into the model. Fortunately, we also get the highest validation and test accuracy observed throughout with the augmented GloVe Model (>89% in multiple epochs), so we can conclude that the use of synonym replacement helps.\n",
    "\n",
    "On a separate note, we see that our models had a tendency to overfit where they consistently shoot above 90% for training accuracy and plateau around 85-89% for validation and test accuracy, therefore, the use of the early stopping callback with best weight restoration feature on was a good way to ensure that we are getting the best feaures out of whatever model we used without going into advanced epochs when it serves minimal purpose. Moreover, we noticed that relu had a very poor performance likely due to exploding gradient issues due to the long text sequences that it was exposed to in this dataset.\n",
    "\n",
    "Per review of data and literature online, the test accuracy for the IMDB dataset tends to fall within 85-90% for a well-trained model, so the results we got here are satisfactory. However, there are several techniques that can be used to further improve the accuracy of the model which could be explored in a more extensive project. Some of those techniques are:\n",
    "\n",
    "1. The use of other tokenization techniques like spaCy or subword tokenization\n",
    "2. The use of contextual embeddings like BERT and transformers\n",
    "3. Better RNN structure of the model such as the use of bi-directionality to enhance semantic understanding of the model\n",
    "4. The use of hybrid models, such as ones that combine CNN and RNN for better feature extraction through local patterns via CNN and sequential patterns via RNN\n",
    "5. The use of attention mechanisms/transformers \n",
    "\n"
   ]
  }
 ],
 "metadata": {
  "kernelspec": {
   "display_name": "Python 3 (ipykernel)",
   "language": "python",
   "name": "python3"
  },
  "language_info": {
   "codemirror_mode": {
    "name": "ipython",
    "version": 3
   },
   "file_extension": ".py",
   "mimetype": "text/x-python",
   "name": "python",
   "nbconvert_exporter": "python",
   "pygments_lexer": "ipython3",
   "version": "3.12.7"
  }
 },
 "nbformat": 4,
 "nbformat_minor": 5
}
