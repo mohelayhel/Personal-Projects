{
 "cells": [
  {
   "cell_type": "code",
   "execution_count": 1,
   "id": "223d7090-5d4d-41c8-8836-6b3a9b7ebd30",
   "metadata": {},
   "outputs": [],
   "source": [
    "import numpy as np\n",
    "import pandas as pd\n",
    "import matplotlib.pyplot as plt\n",
    "from sklearn.preprocessing import LabelEncoder, StandardScaler\n",
    "from sklearn.model_selection import train_test_split\n",
    "\n",
    "from tensorflow.keras.models import Sequential\n",
    "from tensorflow.keras.layers import Dense, LSTM\n",
    "from tensorflow.keras.utils import to_categorical\n",
    "from tensorflow.keras.callbacks import TensorBoard\n",
    "from keras.datasets import imdb\n",
    "import tensorflow as tf\n",
    "import datetime"
   ]
  },
  {
   "cell_type": "markdown",
   "id": "ec886312-b117-4d82-9409-c36f9f522611",
   "metadata": {},
   "source": [
    "## Load Dataset- IMDB\n",
    "The IMDB dataset is a collection of 50,000 movie reviews from the Internet Movie Database (IMDB) that have been preprocessed and labeled by sentiment (positive/negative). The dataset is split into 25,000 reviews for training and 25,000 reviews for testing. Reviews have been preprocessed, and each review is encoded as a list of word indexes (integers).\n",
    "\n",
    "**Desired Output:** Using RNN, we will process each word in a movie review sequentially and predict whether the review is positive or negative."
   ]
  },
  {
   "cell_type": "code",
   "execution_count": 3,
   "id": "8a24afe8-e1c7-4a2d-8c35-b54744e602fe",
   "metadata": {},
   "outputs": [],
   "source": [
    "# Parameters\n",
    "max_vocab = 10000  # Top 10,000 words\n",
    "max_length = 200   # Max review length\n",
    "\n",
    "# Load data\n",
    "(X_train, y_train), (X_test, y_test) = imdb.load_data(num_words=max_vocab)\n"
   ]
  },
  {
   "cell_type": "markdown",
   "id": "938c54b3-a0f2-4c9f-9302-6d4a63a95635",
   "metadata": {},
   "source": [
    "**NOTE:** num_words=10000 means that only the top 10,000 most frequent words will be kept in the dataset."
   ]
  },
  {
   "cell_type": "code",
   "execution_count": 5,
   "id": "28196515-26ac-4473-9b8c-d336f8964b3f",
   "metadata": {},
   "outputs": [
    {
     "data": {
      "text/plain": [
       "(25000,)"
      ]
     },
     "execution_count": 5,
     "metadata": {},
     "output_type": "execute_result"
    }
   ],
   "source": [
    "X_train.shape"
   ]
  },
  {
   "cell_type": "code",
   "execution_count": 6,
   "id": "06e4e0ab-5000-4fd5-9407-a03b1144ff5b",
   "metadata": {},
   "outputs": [
    {
     "data": {
      "text/plain": [
       "(25000,)"
      ]
     },
     "execution_count": 6,
     "metadata": {},
     "output_type": "execute_result"
    }
   ],
   "source": [
    "y_train.shape"
   ]
  },
  {
   "cell_type": "code",
   "execution_count": 7,
   "id": "e9b00524-183e-42f4-a868-98f4c46de632",
   "metadata": {},
   "outputs": [
    {
     "data": {
      "text/plain": [
       "(25000,)"
      ]
     },
     "execution_count": 7,
     "metadata": {},
     "output_type": "execute_result"
    }
   ],
   "source": [
    "X_test.shape"
   ]
  },
  {
   "cell_type": "code",
   "execution_count": 8,
   "id": "595340b6-a91b-4209-9b80-e9787d50f42c",
   "metadata": {},
   "outputs": [
    {
     "data": {
      "text/plain": [
       "(25000,)"
      ]
     },
     "execution_count": 8,
     "metadata": {},
     "output_type": "execute_result"
    }
   ],
   "source": [
    "y_test.shape"
   ]
  },
  {
   "cell_type": "code",
   "execution_count": 9,
   "id": "b3ada47d-e622-4906-9dde-3ad21fb88731",
   "metadata": {},
   "outputs": [
    {
     "data": {
      "text/plain": [
       "[1,\n",
       " 14,\n",
       " 22,\n",
       " 16,\n",
       " 43,\n",
       " 530,\n",
       " 973,\n",
       " 1622,\n",
       " 1385,\n",
       " 65,\n",
       " 458,\n",
       " 4468,\n",
       " 66,\n",
       " 3941,\n",
       " 4,\n",
       " 173,\n",
       " 36,\n",
       " 256,\n",
       " 5,\n",
       " 25,\n",
       " 100,\n",
       " 43,\n",
       " 838,\n",
       " 112,\n",
       " 50,\n",
       " 670,\n",
       " 2,\n",
       " 9,\n",
       " 35,\n",
       " 480,\n",
       " 284,\n",
       " 5,\n",
       " 150,\n",
       " 4,\n",
       " 172,\n",
       " 112,\n",
       " 167,\n",
       " 2,\n",
       " 336,\n",
       " 385,\n",
       " 39,\n",
       " 4,\n",
       " 172,\n",
       " 4536,\n",
       " 1111,\n",
       " 17,\n",
       " 546,\n",
       " 38,\n",
       " 13,\n",
       " 447,\n",
       " 4,\n",
       " 192,\n",
       " 50,\n",
       " 16,\n",
       " 6,\n",
       " 147,\n",
       " 2025,\n",
       " 19,\n",
       " 14,\n",
       " 22,\n",
       " 4,\n",
       " 1920,\n",
       " 4613,\n",
       " 469,\n",
       " 4,\n",
       " 22,\n",
       " 71,\n",
       " 87,\n",
       " 12,\n",
       " 16,\n",
       " 43,\n",
       " 530,\n",
       " 38,\n",
       " 76,\n",
       " 15,\n",
       " 13,\n",
       " 1247,\n",
       " 4,\n",
       " 22,\n",
       " 17,\n",
       " 515,\n",
       " 17,\n",
       " 12,\n",
       " 16,\n",
       " 626,\n",
       " 18,\n",
       " 2,\n",
       " 5,\n",
       " 62,\n",
       " 386,\n",
       " 12,\n",
       " 8,\n",
       " 316,\n",
       " 8,\n",
       " 106,\n",
       " 5,\n",
       " 4,\n",
       " 2223,\n",
       " 5244,\n",
       " 16,\n",
       " 480,\n",
       " 66,\n",
       " 3785,\n",
       " 33,\n",
       " 4,\n",
       " 130,\n",
       " 12,\n",
       " 16,\n",
       " 38,\n",
       " 619,\n",
       " 5,\n",
       " 25,\n",
       " 124,\n",
       " 51,\n",
       " 36,\n",
       " 135,\n",
       " 48,\n",
       " 25,\n",
       " 1415,\n",
       " 33,\n",
       " 6,\n",
       " 22,\n",
       " 12,\n",
       " 215,\n",
       " 28,\n",
       " 77,\n",
       " 52,\n",
       " 5,\n",
       " 14,\n",
       " 407,\n",
       " 16,\n",
       " 82,\n",
       " 2,\n",
       " 8,\n",
       " 4,\n",
       " 107,\n",
       " 117,\n",
       " 5952,\n",
       " 15,\n",
       " 256,\n",
       " 4,\n",
       " 2,\n",
       " 7,\n",
       " 3766,\n",
       " 5,\n",
       " 723,\n",
       " 36,\n",
       " 71,\n",
       " 43,\n",
       " 530,\n",
       " 476,\n",
       " 26,\n",
       " 400,\n",
       " 317,\n",
       " 46,\n",
       " 7,\n",
       " 4,\n",
       " 2,\n",
       " 1029,\n",
       " 13,\n",
       " 104,\n",
       " 88,\n",
       " 4,\n",
       " 381,\n",
       " 15,\n",
       " 297,\n",
       " 98,\n",
       " 32,\n",
       " 2071,\n",
       " 56,\n",
       " 26,\n",
       " 141,\n",
       " 6,\n",
       " 194,\n",
       " 7486,\n",
       " 18,\n",
       " 4,\n",
       " 226,\n",
       " 22,\n",
       " 21,\n",
       " 134,\n",
       " 476,\n",
       " 26,\n",
       " 480,\n",
       " 5,\n",
       " 144,\n",
       " 30,\n",
       " 5535,\n",
       " 18,\n",
       " 51,\n",
       " 36,\n",
       " 28,\n",
       " 224,\n",
       " 92,\n",
       " 25,\n",
       " 104,\n",
       " 4,\n",
       " 226,\n",
       " 65,\n",
       " 16,\n",
       " 38,\n",
       " 1334,\n",
       " 88,\n",
       " 12,\n",
       " 16,\n",
       " 283,\n",
       " 5,\n",
       " 16,\n",
       " 4472,\n",
       " 113,\n",
       " 103,\n",
       " 32,\n",
       " 15,\n",
       " 16,\n",
       " 5345,\n",
       " 19,\n",
       " 178,\n",
       " 32]"
      ]
     },
     "execution_count": 9,
     "metadata": {},
     "output_type": "execute_result"
    }
   ],
   "source": [
    "X_train[0]"
   ]
  },
  {
   "cell_type": "code",
   "execution_count": 10,
   "id": "0f979e11-71ff-4666-9c63-b2de8bdb81dc",
   "metadata": {},
   "outputs": [
    {
     "data": {
      "text/plain": [
       "array([1, 0, 0, 1, 0, 0, 1, 0, 1, 0, 1, 0, 0, 0, 0, 0, 1, 1, 0, 1, 0, 0,\n",
       "       1, 0, 1, 1, 0, 0, 1, 0, 0, 1, 1, 1, 0, 0, 0, 1, 0, 0, 1, 0, 0, 0,\n",
       "       1, 1, 1, 0, 1, 0, 0, 0, 0, 0, 0, 0, 1, 0, 1, 1, 0, 0, 0, 1, 1, 1,\n",
       "       1, 1, 1, 1, 1, 0, 0, 1, 1, 0, 1, 0, 0, 1, 1, 0, 0, 1, 1, 0, 0, 0,\n",
       "       1, 0, 0, 0, 0, 0, 0, 0, 0, 1, 1])"
      ]
     },
     "execution_count": 10,
     "metadata": {},
     "output_type": "execute_result"
    }
   ],
   "source": [
    "y_train[0:99]"
   ]
  },
  {
   "cell_type": "markdown",
   "id": "abda281a-15bb-422a-a6f7-e7aa0c17e2e5",
   "metadata": {},
   "source": [
    "### **Preprocess data**\n",
    "\n",
    "**Preprocessing the Data for the Neural Network**:\n",
    "\n",
    "* max_vocab = 10000: This line sets \n",
    "the maximum vocabulary size to 10,000 words. This means that only the 10,000 most frequent words in the dataset will be considered, and less common words will be ignored.\n",
    "\n",
    "* max_length = 200: This line sets the maximum length of a review to 200 words. Reviews longer than 200 words will be truncated, and shorter reviews will be padded.\n",
    "\n",
    "* X_train and X_test contain the movie reviews themselves (represented as sequences of word indices) as seen above.\n",
    "\n",
    "* y_train and y_test will contain the corresponding sentiment labels (0 for negative, 1 for positive).\n",
    "\n",
    "* pad_sequences function is used such that it takes X_train and X_test (the movie review sequences) and pads or truncates them to ensure they all have a length of max_length (200 words in this case). If a review is shorter than 200 words, it will be padded with zeros at the beginning to reach the desired length. If a review is longer than 200 words, it keeps the first 200 words only.\n",
    "\n",
    "In summary, the code below preprocesses the IMDB movie review data to make it suitable for input to a Recurrent Neural Network (RNN). It limits the vocabulary size, ensures all reviews have the same length, and prepares the data for training and testing."
   ]
  },
  {
   "cell_type": "code",
   "execution_count": 12,
   "id": "2cf7c51a-9b98-4c3b-a63e-157ae06d52ab",
   "metadata": {},
   "outputs": [
    {
     "name": "stdout",
     "output_type": "stream",
     "text": [
      "Training data shape: (25000, 200), Test data shape: (25000, 200)\n"
     ]
    }
   ],
   "source": [
    "from keras.preprocessing.sequence import pad_sequences\n",
    "\n",
    "# Pad sequences to ensure equal length\n",
    "X_train = pad_sequences(X_train, maxlen=max_length)\n",
    "X_test = pad_sequences(X_test, maxlen=max_length)\n",
    "\n",
    "print(f\"Training data shape: {X_train.shape}, Test data shape: {X_test.shape}\")"
   ]
  },
  {
   "cell_type": "markdown",
   "id": "deed0443-ff2b-4ac2-a3e7-a384ba710d90",
   "metadata": {},
   "source": [
    "## Model Design\n",
    "* Embedding: Used for representing words (or tokens) as dense vectors in a lower-dimensional space. It is essential for Natural Language Processing (NLP) tasks for dimensionality reduction as well as capturing semantic relationships between the provided words snce similar words are assigned similar representations.\n",
    "* LSTM: Core building blocks for creating sequential models. A recurrent layer with Long Short-Term Memory, which helps capture long-term dependencies in data sequences and avoid vanishing or exploding gradient proe \n",
    "* Dense: A fully connected neural network layer with a single output neuron, crucial for transforming the learned features into a format suitable for making predictions."
   ]
  },
  {
   "cell_type": "code",
   "execution_count": 14,
   "id": "767f281d-a55c-4e0c-9374-029467153ac4",
   "metadata": {},
   "outputs": [],
   "source": [
    "from keras.layers import Embedding, SimpleRNN, Dense, LSTM\n",
    "from keras.optimizers import Adam, SGD\n",
    "import matplotlib.pyplot as plt\n",
    "\n",
    "model = Sequential()\n",
    "model.add(Embedding(input_dim=max_vocab, output_dim=128))\n",
    "model.add(LSTM(64, return_sequences=True, activation='relu'))  # Layer 1\n",
    "model.add(LSTM(32, return_sequences=True, activation='relu'))  # Layer 2\n",
    "model.add(LSTM(16, activation='relu'))                         # Layer 3\n",
    "model.add(Dense(1, activation='sigmoid'))  # Output layer for binary classification"
   ]
  },
  {
   "cell_type": "code",
   "execution_count": 15,
   "id": "2f8c60df-a127-46f8-b2cf-a27d38d38e6b",
   "metadata": {},
   "outputs": [
    {
     "data": {
      "text/plain": [
       "array([   5,   25,  100,   43,  838,  112,   50,  670,    2,    9,   35,\n",
       "        480,  284,    5,  150,    4,  172,  112,  167,    2,  336,  385,\n",
       "         39,    4,  172, 4536, 1111,   17,  546,   38,   13,  447,    4,\n",
       "        192,   50,   16,    6,  147, 2025,   19,   14,   22,    4, 1920,\n",
       "       4613,  469,    4,   22,   71,   87,   12,   16,   43,  530,   38,\n",
       "         76,   15,   13, 1247,    4,   22,   17,  515,   17,   12,   16,\n",
       "        626,   18,    2,    5,   62,  386,   12,    8,  316,    8,  106,\n",
       "          5,    4, 2223, 5244,   16,  480,   66, 3785,   33,    4,  130,\n",
       "         12,   16,   38,  619,    5,   25,  124,   51,   36,  135,   48,\n",
       "         25, 1415,   33,    6,   22,   12,  215,   28,   77,   52,    5,\n",
       "         14,  407,   16,   82,    2,    8,    4,  107,  117, 5952,   15,\n",
       "        256,    4,    2,    7, 3766,    5,  723,   36,   71,   43,  530,\n",
       "        476,   26,  400,  317,   46,    7,    4,    2, 1029,   13,  104,\n",
       "         88,    4,  381,   15,  297,   98,   32, 2071,   56,   26,  141,\n",
       "          6,  194, 7486,   18,    4,  226,   22,   21,  134,  476,   26,\n",
       "        480,    5,  144,   30, 5535,   18,   51,   36,   28,  224,   92,\n",
       "         25,  104,    4,  226,   65,   16,   38, 1334,   88,   12,   16,\n",
       "        283,    5,   16, 4472,  113,  103,   32,   15,   16, 5345,   19,\n",
       "        178,   32], dtype=int32)"
      ]
     },
     "execution_count": 15,
     "metadata": {},
     "output_type": "execute_result"
    }
   ],
   "source": [
    "#After processing\n",
    "X_train[0]"
   ]
  },
  {
   "cell_type": "code",
   "execution_count": 16,
   "id": "9cde73c0-ef0b-40f4-9fb3-cac90827416f",
   "metadata": {},
   "outputs": [],
   "source": [
    "model.compile(optimizer='adam', loss='binary_crossentropy', metrics=['accuracy'])"
   ]
  },
  {
   "cell_type": "markdown",
   "id": "a27078d9-da43-4b11-82da-7281d4091cac",
   "metadata": {},
   "source": [
    "### Model 1 Training"
   ]
  },
  {
   "cell_type": "code",
   "execution_count": 18,
   "id": "6429adac-3c03-4a65-90d8-e8be24409193",
   "metadata": {
    "scrolled": true
   },
   "outputs": [
    {
     "name": "stdout",
     "output_type": "stream",
     "text": [
      "Epoch 1/10\n",
      "\u001b[1m157/157\u001b[0m \u001b[32m━━━━━━━━━━━━━━━━━━━━\u001b[0m\u001b[37m\u001b[0m \u001b[1m31s\u001b[0m 190ms/step - accuracy: 0.5237 - loss: 86.2470 - val_accuracy: 0.6412 - val_loss: 0.6727\n",
      "Epoch 2/10\n",
      "\u001b[1m157/157\u001b[0m \u001b[32m━━━━━━━━━━━━━━━━━━━━\u001b[0m\u001b[37m\u001b[0m \u001b[1m31s\u001b[0m 201ms/step - accuracy: 0.7152 - loss: 16854.9941 - val_accuracy: 0.7268 - val_loss: 175075.6406\n",
      "Epoch 3/10\n",
      "\u001b[1m157/157\u001b[0m \u001b[32m━━━━━━━━━━━━━━━━━━━━\u001b[0m\u001b[37m\u001b[0m \u001b[1m33s\u001b[0m 207ms/step - accuracy: 0.7052 - loss: 2137212928.0000 - val_accuracy: 0.5062 - val_loss: 0.6957\n",
      "Epoch 4/10\n",
      "\u001b[1m157/157\u001b[0m \u001b[32m━━━━━━━━━━━━━━━━━━━━\u001b[0m\u001b[37m\u001b[0m \u001b[1m33s\u001b[0m 211ms/step - accuracy: 0.4964 - loss: 0.6959 - val_accuracy: 0.5062 - val_loss: 0.6927\n",
      "Epoch 5/10\n",
      "\u001b[1m157/157\u001b[0m \u001b[32m━━━━━━━━━━━━━━━━━━━━\u001b[0m\u001b[37m\u001b[0m \u001b[1m33s\u001b[0m 209ms/step - accuracy: 0.4912 - loss: 0.6935 - val_accuracy: 0.5068 - val_loss: 0.6921\n",
      "Epoch 6/10\n",
      "\u001b[1m157/157\u001b[0m \u001b[32m━━━━━━━━━━━━━━━━━━━━\u001b[0m\u001b[37m\u001b[0m \u001b[1m34s\u001b[0m 214ms/step - accuracy: 0.5079 - loss: 0.6919 - val_accuracy: 0.5358 - val_loss: 0.6920\n",
      "Epoch 7/10\n",
      "\u001b[1m157/157\u001b[0m \u001b[32m━━━━━━━━━━━━━━━━━━━━\u001b[0m\u001b[37m\u001b[0m \u001b[1m35s\u001b[0m 223ms/step - accuracy: 0.5499 - loss: 0.6917 - val_accuracy: 0.6582 - val_loss: 0.6919\n",
      "Epoch 8/10\n",
      "\u001b[1m157/157\u001b[0m \u001b[32m━━━━━━━━━━━━━━━━━━━━\u001b[0m\u001b[37m\u001b[0m \u001b[1m35s\u001b[0m 225ms/step - accuracy: 0.6693 - loss: 0.6915 - val_accuracy: 0.6644 - val_loss: 0.6918\n",
      "Epoch 9/10\n",
      "\u001b[1m157/157\u001b[0m \u001b[32m━━━━━━━━━━━━━━━━━━━━\u001b[0m\u001b[37m\u001b[0m \u001b[1m36s\u001b[0m 231ms/step - accuracy: 0.7312 - loss: 0.6913 - val_accuracy: 0.6592 - val_loss: 0.6916\n",
      "Epoch 10/10\n",
      "\u001b[1m157/157\u001b[0m \u001b[32m━━━━━━━━━━━━━━━━━━━━\u001b[0m\u001b[37m\u001b[0m \u001b[1m37s\u001b[0m 237ms/step - accuracy: 0.6819 - loss: 0.6911 - val_accuracy: 0.6384 - val_loss: 0.6913\n"
     ]
    },
    {
     "data": {
      "text/plain": [
       "<keras.src.callbacks.history.History at 0x17b719040>"
      ]
     },
     "execution_count": 18,
     "metadata": {},
     "output_type": "execute_result"
    }
   ],
   "source": [
    "model.fit(\n",
    "        X_train, y_train, \n",
    "        validation_split=0.2, \n",
    "        epochs=10, \n",
    "        batch_size=128,\n",
    "        verbose=1\n",
    "    )"
   ]
  },
  {
   "cell_type": "markdown",
   "id": "cf5b9b2c-8555-4c9d-b024-c8a96c6ca302",
   "metadata": {},
   "source": [
    "### Model 1 Performance\n",
    "Model 1, using relu activation for the LSTM layers had several issues in training the imdb sentiment analysis dataset. Some of the key issues are:\n",
    "* The validation accuracy was much lower than training accuracy when the model performed best (epoch 4) which shows a very clear trend of overfitting\n",
    "* The model performance drastically worsened after epoch 2, with the first sign being that the validation accuracy dropped to ~50% in epoch 3 and then training accuracy followed as well in all later epochs. This shows that the model had divergence, as also evidenced by the huge increase in the loss function value between epochs 2 and 3."
   ]
  },
  {
   "cell_type": "markdown",
   "id": "29de7732-3c6b-44b5-84e4-f1d551955e05",
   "metadata": {},
   "source": [
    "### Model 2 Training"
   ]
  },
  {
   "cell_type": "code",
   "execution_count": 21,
   "id": "e06172e2-3c5b-430e-8932-724613ebe7ad",
   "metadata": {},
   "outputs": [
    {
     "name": "stdout",
     "output_type": "stream",
     "text": [
      "Epoch 1/10\n",
      "\u001b[1m313/313\u001b[0m \u001b[32m━━━━━━━━━━━━━━━━━━━━\u001b[0m\u001b[37m\u001b[0m \u001b[1m53s\u001b[0m 168ms/step - accuracy: 0.6344 - loss: 0.6907 - val_accuracy: 0.5040 - val_loss: 0.6910\n",
      "Epoch 2/10\n",
      "\u001b[1m313/313\u001b[0m \u001b[32m━━━━━━━━━━━━━━━━━━━━\u001b[0m\u001b[37m\u001b[0m \u001b[1m48s\u001b[0m 152ms/step - accuracy: 0.5279 - loss: 0.6899 - val_accuracy: 0.6718 - val_loss: 0.6903\n",
      "Epoch 3/10\n",
      "\u001b[1m313/313\u001b[0m \u001b[32m━━━━━━━━━━━━━━━━━━━━\u001b[0m\u001b[37m\u001b[0m \u001b[1m48s\u001b[0m 153ms/step - accuracy: 0.7229 - loss: 0.6890 - val_accuracy: 0.6776 - val_loss: 0.6891\n",
      "Epoch 4/10\n",
      "\u001b[1m313/313\u001b[0m \u001b[32m━━━━━━━━━━━━━━━━━━━━\u001b[0m\u001b[37m\u001b[0m \u001b[1m46s\u001b[0m 148ms/step - accuracy: 0.7384 - loss: 0.6871 - val_accuracy: 0.6508 - val_loss: 0.6876\n",
      "Epoch 5/10\n",
      "\u001b[1m313/313\u001b[0m \u001b[32m━━━━━━━━━━━━━━━━━━━━\u001b[0m\u001b[37m\u001b[0m \u001b[1m53s\u001b[0m 168ms/step - accuracy: 0.7066 - loss: 0.6844 - val_accuracy: 0.6942 - val_loss: 0.6823\n",
      "Epoch 6/10\n",
      "\u001b[1m313/313\u001b[0m \u001b[32m━━━━━━━━━━━━━━━━━━━━\u001b[0m\u001b[37m\u001b[0m \u001b[1m48s\u001b[0m 154ms/step - accuracy: 0.7744 - loss: 0.6709 - val_accuracy: 0.7328 - val_loss: 0.6547\n",
      "Epoch 7/10\n",
      "\u001b[1m313/313\u001b[0m \u001b[32m━━━━━━━━━━━━━━━━━━━━\u001b[0m\u001b[37m\u001b[0m \u001b[1m57s\u001b[0m 181ms/step - accuracy: 0.7783 - loss: 0.6228 - val_accuracy: 0.7164 - val_loss: 0.5786\n",
      "Epoch 8/10\n",
      "\u001b[1m313/313\u001b[0m \u001b[32m━━━━━━━━━━━━━━━━━━━━\u001b[0m\u001b[37m\u001b[0m \u001b[1m49s\u001b[0m 157ms/step - accuracy: 0.7826 - loss: 0.5497 - val_accuracy: 0.6884 - val_loss: 0.6609\n",
      "Epoch 9/10\n",
      "\u001b[1m313/313\u001b[0m \u001b[32m━━━━━━━━━━━━━━━━━━━━\u001b[0m\u001b[37m\u001b[0m \u001b[1m50s\u001b[0m 160ms/step - accuracy: 0.8001 - loss: 0.5000 - val_accuracy: 0.7332 - val_loss: 0.5678\n",
      "Epoch 10/10\n",
      "\u001b[1m313/313\u001b[0m \u001b[32m━━━━━━━━━━━━━━━━━━━━\u001b[0m\u001b[37m\u001b[0m \u001b[1m48s\u001b[0m 153ms/step - accuracy: 0.8398 - loss: 0.3814 - val_accuracy: 0.7372 - val_loss: 0.5609\n"
     ]
    },
    {
     "data": {
      "text/plain": [
       "<keras.src.callbacks.history.History at 0x17e6ed640>"
      ]
     },
     "execution_count": 21,
     "metadata": {},
     "output_type": "execute_result"
    }
   ],
   "source": [
    "from keras.callbacks import EarlyStopping\n",
    "early_stopping = EarlyStopping(monitor='val_loss', patience=3, restore_best_weights=True)\n",
    "\n",
    "model.fit(\n",
    "        X_train, y_train, \n",
    "        validation_split=0.2, \n",
    "        epochs=10, \n",
    "        batch_size=64,\n",
    "        verbose=1,\n",
    "        callbacks=[early_stopping]\n",
    "    )"
   ]
  },
  {
   "cell_type": "markdown",
   "id": "a6fc81cc-3cbe-450b-8f54-591ec0ccf4d6",
   "metadata": {},
   "source": [
    "### Model 2 Performance\n",
    "Since Model 1 had an issue with overfitting, we attempted the same model with with a smaller batch size, which introduces the model to more noise during the training, but it was not very effective  in increasing overall model accuracy. However, we also introduced a callback called early stopping to avoid what happened in model 1 and to ensure that the best weights are kept. This fucntion looks to see if there is no improvement in validation loss after 3 epochs and then stops the model prematurely.\n",
    "This is a sign that there is a bigger flaw in the model, and the activation fucntion relu is a prime suspect, since relu either zeroes out or holds on to the actual input value which means that it may be creating exploding gradients with long sequences during backpropagation. This is also observed with model 1 since the loss function minimizes at epoch 4 before massively rising afterwards. "
   ]
  },
  {
   "cell_type": "markdown",
   "id": "cde3c828-ebc6-45f6-8855-cdefd975362f",
   "metadata": {},
   "source": [
    "### Model 3 Training"
   ]
  },
  {
   "cell_type": "code",
   "execution_count": 24,
   "id": "512ccef2-9fac-4938-a8c4-bd8b87f61301",
   "metadata": {
    "scrolled": true
   },
   "outputs": [
    {
     "name": "stdout",
     "output_type": "stream",
     "text": [
      "Epoch 1/10\n",
      "\u001b[1m313/313\u001b[0m \u001b[32m━━━━━━━━━━━━━━━━━━━━\u001b[0m\u001b[37m\u001b[0m \u001b[1m47s\u001b[0m 147ms/step - accuracy: 0.6955 - loss: 0.5484 - val_accuracy: 0.8428 - val_loss: 0.3896\n",
      "Epoch 2/10\n",
      "\u001b[1m313/313\u001b[0m \u001b[32m━━━━━━━━━━━━━━━━━━━━\u001b[0m\u001b[37m\u001b[0m \u001b[1m47s\u001b[0m 150ms/step - accuracy: 0.8898 - loss: 0.2846 - val_accuracy: 0.8686 - val_loss: 0.3537\n",
      "Epoch 3/10\n",
      "\u001b[1m313/313\u001b[0m \u001b[32m━━━━━━━━━━━━━━━━━━━━\u001b[0m\u001b[37m\u001b[0m \u001b[1m52s\u001b[0m 167ms/step - accuracy: 0.9341 - loss: 0.1866 - val_accuracy: 0.8612 - val_loss: 0.3631\n",
      "Epoch 4/10\n",
      "\u001b[1m313/313\u001b[0m \u001b[32m━━━━━━━━━━━━━━━━━━━━\u001b[0m\u001b[37m\u001b[0m \u001b[1m53s\u001b[0m 168ms/step - accuracy: 0.9609 - loss: 0.1155 - val_accuracy: 0.8614 - val_loss: 0.3864\n",
      "Epoch 5/10\n",
      "\u001b[1m313/313\u001b[0m \u001b[32m━━━━━━━━━━━━━━━━━━━━\u001b[0m\u001b[37m\u001b[0m \u001b[1m48s\u001b[0m 152ms/step - accuracy: 0.9754 - loss: 0.0831 - val_accuracy: 0.8544 - val_loss: 0.4161\n"
     ]
    },
    {
     "data": {
      "text/plain": [
       "<keras.src.callbacks.history.History at 0x17f498ec0>"
      ]
     },
     "execution_count": 24,
     "metadata": {},
     "output_type": "execute_result"
    }
   ],
   "source": [
    "model = Sequential()\n",
    "model.add(Embedding(input_dim=max_vocab, output_dim=128))\n",
    "model.add(LSTM(64, return_sequences=True, activation='tanh'))  # Layer 1\n",
    "model.add(LSTM(32, return_sequences=True, activation='tanh'))  # Layer 2\n",
    "model.add(LSTM(16, activation='tanh'))                         # Layer 3\n",
    "model.add(Dense(1, activation='sigmoid'))  # Output layer for binary classification\n",
    "model.compile(optimizer='adam', loss='binary_crossentropy', metrics=['accuracy'])\n",
    "\n",
    "model.fit(\n",
    "        X_train, y_train, \n",
    "        validation_split=0.2, \n",
    "        epochs=10, \n",
    "        batch_size=64,\n",
    "        verbose=1,\n",
    "        callbacks=[early_stopping]\n",
    "    )"
   ]
  },
  {
   "cell_type": "markdown",
   "id": "74ea80fc-549f-4941-9d6d-795a4ecb9c19",
   "metadata": {},
   "source": [
    "### Model 3 Performance\n",
    "Next, we attempted 'tanh' which is a more commonly used activation function with RNNs than relu, due to  its ability to generate an output between -1 and 1, that is centered around 0, which leads to faster convergence, as evidenced by a highly consistent validation accuracy from the first few epochs and avoids exploding gradients issues that were observed with relu. However, we also noticed that the training accuracy kept increasing substantially throughout epochs while validation remained constant, which means that the network was becoming prone to overfitting."
   ]
  },
  {
   "cell_type": "markdown",
   "id": "26087a12-901e-4efb-b0aa-6c793c3023e3",
   "metadata": {},
   "source": [
    "### Model 4 Training"
   ]
  },
  {
   "cell_type": "code",
   "execution_count": 27,
   "id": "4febd7ae-fd89-4e0f-b3be-d3622fbf62cd",
   "metadata": {},
   "outputs": [
    {
     "name": "stdout",
     "output_type": "stream",
     "text": [
      "Epoch 1/10\n",
      "\u001b[1m625/625\u001b[0m \u001b[32m━━━━━━━━━━━━━━━━━━━━\u001b[0m\u001b[37m\u001b[0m \u001b[1m51s\u001b[0m 80ms/step - accuracy: 0.6985 - loss: 0.5408 - val_accuracy: 0.8486 - val_loss: 0.3502\n",
      "Epoch 2/10\n",
      "\u001b[1m625/625\u001b[0m \u001b[32m━━━━━━━━━━━━━━━━━━━━\u001b[0m\u001b[37m\u001b[0m \u001b[1m47s\u001b[0m 74ms/step - accuracy: 0.9021 - loss: 0.2558 - val_accuracy: 0.8716 - val_loss: 0.3082\n",
      "Epoch 3/10\n",
      "\u001b[1m625/625\u001b[0m \u001b[32m━━━━━━━━━━━━━━━━━━━━\u001b[0m\u001b[37m\u001b[0m \u001b[1m46s\u001b[0m 74ms/step - accuracy: 0.9304 - loss: 0.1894 - val_accuracy: 0.8732 - val_loss: 0.3300\n",
      "Epoch 4/10\n",
      "\u001b[1m625/625\u001b[0m \u001b[32m━━━━━━━━━━━━━━━━━━━━\u001b[0m\u001b[37m\u001b[0m \u001b[1m47s\u001b[0m 75ms/step - accuracy: 0.9638 - loss: 0.1124 - val_accuracy: 0.8570 - val_loss: 0.3751\n",
      "Epoch 5/10\n",
      "\u001b[1m625/625\u001b[0m \u001b[32m━━━━━━━━━━━━━━━━━━━━\u001b[0m\u001b[37m\u001b[0m \u001b[1m49s\u001b[0m 78ms/step - accuracy: 0.9763 - loss: 0.0757 - val_accuracy: 0.8604 - val_loss: 0.4183\n"
     ]
    },
    {
     "data": {
      "text/plain": [
       "<keras.src.callbacks.history.History at 0x30ad66900>"
      ]
     },
     "execution_count": 27,
     "metadata": {},
     "output_type": "execute_result"
    }
   ],
   "source": [
    "model = Sequential()\n",
    "model.add(Embedding(input_dim=max_vocab, output_dim=128))\n",
    "model.add(LSTM(64, return_sequences=True, activation='tanh'))  # Layer 1\n",
    "model.add(LSTM(32, return_sequences=True, activation='tanh'))  # Layer 2\n",
    "model.add(LSTM(16, activation='tanh'))                         # Layer 3\n",
    "model.add(Dense(1, activation='sigmoid'))  # Output layer for binary classification\n",
    "model.compile(optimizer='adam', loss='binary_crossentropy', metrics=['accuracy'])\n",
    "\n",
    "model.fit(\n",
    "        X_train, y_train, \n",
    "        validation_split=0.2, \n",
    "        epochs=10, \n",
    "        batch_size=32,\n",
    "        verbose=1,\n",
    "        callbacks=[early_stopping]\n",
    "    )"
   ]
  },
  {
   "cell_type": "markdown",
   "id": "ae040ca8-e977-4976-af60-e52e969eb444",
   "metadata": {},
   "source": [
    "### Model 4 Performance \n",
    "We attempted to further reduce the batch size to 32 from 64 reduce the overfitting issue observed in model 3, and it seemed to slightly help with training accuracy if the models are compared H2H per epoch, but the validation accuracy is mostly flat, so this reduction in batch size, which comes with an increase in computational complexity is not a highly effective tuning parameter in this case.\n"
   ]
  },
  {
   "cell_type": "markdown",
   "id": "6da5a52d-1147-4154-8d0f-91b1be072ab0",
   "metadata": {},
   "source": [
    "### Model 5 Training"
   ]
  },
  {
   "cell_type": "code",
   "execution_count": 30,
   "id": "177b0739-753e-423b-a2c7-fa40536a73ef",
   "metadata": {},
   "outputs": [
    {
     "name": "stdout",
     "output_type": "stream",
     "text": [
      "Epoch 1/10\n",
      "\u001b[1m625/625\u001b[0m \u001b[32m━━━━━━━━━━━━━━━━━━━━\u001b[0m\u001b[37m\u001b[0m \u001b[1m48s\u001b[0m 75ms/step - accuracy: 0.7086 - loss: 0.5532 - val_accuracy: 0.8408 - val_loss: 0.3791\n",
      "Epoch 2/10\n",
      "\u001b[1m625/625\u001b[0m \u001b[32m━━━━━━━━━━━━━━━━━━━━\u001b[0m\u001b[37m\u001b[0m \u001b[1m47s\u001b[0m 76ms/step - accuracy: 0.8859 - loss: 0.2966 - val_accuracy: 0.8754 - val_loss: 0.2979\n",
      "Epoch 3/10\n",
      "\u001b[1m625/625\u001b[0m \u001b[32m━━━━━━━━━━━━━━━━━━━━\u001b[0m\u001b[37m\u001b[0m \u001b[1m47s\u001b[0m 75ms/step - accuracy: 0.9263 - loss: 0.2007 - val_accuracy: 0.8606 - val_loss: 0.3351\n",
      "Epoch 4/10\n",
      "\u001b[1m625/625\u001b[0m \u001b[32m━━━━━━━━━━━━━━━━━━━━\u001b[0m\u001b[37m\u001b[0m \u001b[1m47s\u001b[0m 76ms/step - accuracy: 0.9521 - loss: 0.1428 - val_accuracy: 0.8686 - val_loss: 0.3766\n",
      "Epoch 5/10\n",
      "\u001b[1m625/625\u001b[0m \u001b[32m━━━━━━━━━━━━━━━━━━━━\u001b[0m\u001b[37m\u001b[0m \u001b[1m45s\u001b[0m 72ms/step - accuracy: 0.9584 - loss: 0.1248 - val_accuracy: 0.7934 - val_loss: 0.5074\n"
     ]
    },
    {
     "data": {
      "text/plain": [
       "<keras.src.callbacks.history.History at 0x311d96a80>"
      ]
     },
     "execution_count": 30,
     "metadata": {},
     "output_type": "execute_result"
    }
   ],
   "source": [
    "from keras.layers import Dropout\n",
    "\n",
    "model = Sequential()\n",
    "model.add(Embedding(input_dim=max_vocab, output_dim=128))\n",
    "model.add(LSTM(64, return_sequences=True, activation='tanh'))  # Layer 1\n",
    "model.add(LSTM(32, return_sequences=True, activation='tanh'))  # Layer 2\n",
    "model.add(LSTM(16, activation='tanh'))                         # Layer 3\n",
    "model.add(Dropout(0.2)) # Dropout layer after the third LSTM Layer\n",
    "model.add(Dense(1, activation='sigmoid'))  # Output layer for binary classification\n",
    "model.compile(optimizer='adam', loss='binary_crossentropy', metrics=['accuracy'])\n",
    "\n",
    "model.fit(\n",
    "        X_train, y_train, \n",
    "        validation_split=0.2, \n",
    "        epochs=10, \n",
    "        batch_size=32,\n",
    "        verbose=1,\n",
    "        callbacks=[early_stopping]\n",
    "    )"
   ]
  },
  {
   "cell_type": "markdown",
   "id": "06ab7f4b-943c-4974-a968-a6f752edfbb8",
   "metadata": {},
   "source": [
    "### Model 5 Performance \n",
    "The introduction of a dropout layer after the 3rd LSTM layer as a regularization technique had a negligible impact on the outputs of the model in terms of validation accuracy. The next step will be to explore the use of sigmoid activation instead of tanh\n"
   ]
  },
  {
   "cell_type": "markdown",
   "id": "72807b05-be65-4256-8fc8-635528a4abc5",
   "metadata": {},
   "source": [
    "### Model 6 Performance"
   ]
  },
  {
   "cell_type": "code",
   "execution_count": 33,
   "id": "bfd5584c-79f5-46d9-8374-7ddddbb1ca5b",
   "metadata": {},
   "outputs": [
    {
     "name": "stdout",
     "output_type": "stream",
     "text": [
      "Epoch 1/10\n",
      "\u001b[1m313/313\u001b[0m \u001b[32m━━━━━━━━━━━━━━━━━━━━\u001b[0m\u001b[37m\u001b[0m \u001b[1m47s\u001b[0m 147ms/step - accuracy: 0.5283 - loss: 0.6820 - val_accuracy: 0.7760 - val_loss: 0.5046\n",
      "Epoch 2/10\n",
      "\u001b[1m313/313\u001b[0m \u001b[32m━━━━━━━━━━━━━━━━━━━━\u001b[0m\u001b[37m\u001b[0m \u001b[1m45s\u001b[0m 145ms/step - accuracy: 0.8128 - loss: 0.4485 - val_accuracy: 0.8144 - val_loss: 0.4321\n",
      "Epoch 3/10\n",
      "\u001b[1m313/313\u001b[0m \u001b[32m━━━━━━━━━━━━━━━━━━━━\u001b[0m\u001b[37m\u001b[0m \u001b[1m47s\u001b[0m 149ms/step - accuracy: 0.8858 - loss: 0.3074 - val_accuracy: 0.8362 - val_loss: 0.3973\n",
      "Epoch 4/10\n",
      "\u001b[1m313/313\u001b[0m \u001b[32m━━━━━━━━━━━━━━━━━━━━\u001b[0m\u001b[37m\u001b[0m \u001b[1m44s\u001b[0m 142ms/step - accuracy: 0.9122 - loss: 0.2443 - val_accuracy: 0.8492 - val_loss: 0.3592\n",
      "Epoch 5/10\n",
      "\u001b[1m313/313\u001b[0m \u001b[32m━━━━━━━━━━━━━━━━━━━━\u001b[0m\u001b[37m\u001b[0m \u001b[1m44s\u001b[0m 142ms/step - accuracy: 0.9387 - loss: 0.1865 - val_accuracy: 0.8650 - val_loss: 0.3576\n",
      "Epoch 6/10\n",
      "\u001b[1m313/313\u001b[0m \u001b[32m━━━━━━━━━━━━━━━━━━━━\u001b[0m\u001b[37m\u001b[0m \u001b[1m45s\u001b[0m 144ms/step - accuracy: 0.9504 - loss: 0.1538 - val_accuracy: 0.8554 - val_loss: 0.3831\n",
      "Epoch 7/10\n",
      "\u001b[1m313/313\u001b[0m \u001b[32m━━━━━━━━━━━━━━━━━━━━\u001b[0m\u001b[37m\u001b[0m \u001b[1m45s\u001b[0m 145ms/step - accuracy: 0.9599 - loss: 0.1344 - val_accuracy: 0.8614 - val_loss: 0.4031\n",
      "Epoch 8/10\n",
      "\u001b[1m313/313\u001b[0m \u001b[32m━━━━━━━━━━━━━━━━━━━━\u001b[0m\u001b[37m\u001b[0m \u001b[1m45s\u001b[0m 143ms/step - accuracy: 0.9653 - loss: 0.1144 - val_accuracy: 0.8604 - val_loss: 0.4192\n"
     ]
    },
    {
     "data": {
      "text/plain": [
       "<keras.src.callbacks.history.History at 0x30af9e3c0>"
      ]
     },
     "execution_count": 33,
     "metadata": {},
     "output_type": "execute_result"
    }
   ],
   "source": [
    "model = Sequential()\n",
    "model.add(Embedding(input_dim=max_vocab, output_dim=128))\n",
    "model.add(LSTM(64, return_sequences=True, activation='sigmoid'))  # Layer 1\n",
    "model.add(LSTM(32, return_sequences=True, activation='sigmoid'))  # Layer 2\n",
    "model.add(LSTM(16, activation='sigmoid'))                         # Layer 3\n",
    "model.add(Dense(1, activation='sigmoid'))  # Output layer for binary classification\n",
    "model.compile(optimizer='adam', loss='binary_crossentropy', metrics=['accuracy'])\n",
    "\n",
    "model.fit(\n",
    "        X_train, y_train, \n",
    "        validation_split=0.2, \n",
    "        epochs=10, \n",
    "        batch_size=64,\n",
    "        verbose=1,\n",
    "        callbacks=[early_stopping]\n",
    "    )"
   ]
  },
  {
   "cell_type": "code",
   "execution_count": 34,
   "id": "7c5abdd1-6137-48b0-a50c-d7f4e8b82e5e",
   "metadata": {},
   "outputs": [
    {
     "name": "stdout",
     "output_type": "stream",
     "text": [
      "\u001b[1m782/782\u001b[0m \u001b[32m━━━━━━━━━━━━━━━━━━━━\u001b[0m\u001b[37m\u001b[0m \u001b[1m15s\u001b[0m 19ms/step - accuracy: 0.8521 - loss: 0.3762\n"
     ]
    },
    {
     "data": {
      "text/plain": [
       "[0.3718128204345703, 0.8541600108146667]"
      ]
     },
     "execution_count": 34,
     "metadata": {},
     "output_type": "execute_result"
    }
   ],
   "source": [
    "model.evaluate(X_test, y_test)"
   ]
  },
  {
   "cell_type": "markdown",
   "id": "55319b9b-c52f-4f2d-a66e-7bff07fad3ed",
   "metadata": {},
   "source": [
    "### Model 6 Performance\n",
    "Using 'sigmoid' as an activation function led to very similar results when compared to 'tanh', both being substantially better than relu. This confirms that this model benefits from the non-linearity but also is prone to exploding gradients so its best to use functions that have the ability to squash the range of the output like sigmoid and tanh. Given the similarity in outcomes for all the models since model 2. We will consider the outcomes here "
   ]
  },
  {
   "cell_type": "markdown",
   "id": "6d5d253b-5263-4ffe-83c9-03c88c1ce092",
   "metadata": {},
   "source": [
    "### Model 7: Stronger Regularization and faster earlier stopping rate"
   ]
  },
  {
   "cell_type": "code",
   "execution_count": 37,
   "id": "d8c4b71e-a91a-4e66-84b8-ef707d557ee2",
   "metadata": {},
   "outputs": [
    {
     "name": "stdout",
     "output_type": "stream",
     "text": [
      "Epoch 1/10\n",
      "\u001b[1m625/625\u001b[0m \u001b[32m━━━━━━━━━━━━━━━━━━━━\u001b[0m\u001b[37m\u001b[0m \u001b[1m46s\u001b[0m 73ms/step - accuracy: 0.5265 - loss: 0.6901 - val_accuracy: 0.7258 - val_loss: 0.5603\n",
      "Epoch 2/10\n",
      "\u001b[1m625/625\u001b[0m \u001b[32m━━━━━━━━━━━━━━━━━━━━\u001b[0m\u001b[37m\u001b[0m \u001b[1m44s\u001b[0m 71ms/step - accuracy: 0.7916 - loss: 0.4996 - val_accuracy: 0.8434 - val_loss: 0.3897\n",
      "Epoch 3/10\n",
      "\u001b[1m625/625\u001b[0m \u001b[32m━━━━━━━━━━━━━━━━━━━━\u001b[0m\u001b[37m\u001b[0m \u001b[1m46s\u001b[0m 74ms/step - accuracy: 0.8769 - loss: 0.3411 - val_accuracy: 0.8540 - val_loss: 0.3610\n",
      "Epoch 4/10\n",
      "\u001b[1m625/625\u001b[0m \u001b[32m━━━━━━━━━━━━━━━━━━━━\u001b[0m\u001b[37m\u001b[0m \u001b[1m45s\u001b[0m 73ms/step - accuracy: 0.9184 - loss: 0.2522 - val_accuracy: 0.8570 - val_loss: 0.3517\n",
      "Epoch 5/10\n",
      "\u001b[1m625/625\u001b[0m \u001b[32m━━━━━━━━━━━━━━━━━━━━\u001b[0m\u001b[37m\u001b[0m \u001b[1m45s\u001b[0m 72ms/step - accuracy: 0.9322 - loss: 0.2103 - val_accuracy: 0.8476 - val_loss: 0.3643\n",
      "Epoch 6/10\n",
      "\u001b[1m625/625\u001b[0m \u001b[32m━━━━━━━━━━━━━━━━━━━━\u001b[0m\u001b[37m\u001b[0m \u001b[1m45s\u001b[0m 72ms/step - accuracy: 0.9489 - loss: 0.1800 - val_accuracy: 0.8520 - val_loss: 0.3906\n"
     ]
    }
   ],
   "source": [
    "early_stopping = EarlyStopping(monitor='val_loss', patience=2, restore_best_weights=True)\n",
    "\n",
    "model = Sequential()\n",
    "model.add(Embedding(input_dim=max_vocab, output_dim=128))\n",
    "model.add(LSTM(64, return_sequences=True, activation='sigmoid'))  # Layer 1\n",
    "model.add(LSTM(32, return_sequences=True, activation='sigmoid'))  # Layer 2\n",
    "model.add(LSTM(16, activation='sigmoid'))                         # Layer 3\n",
    "model.add(Dropout(0.5)) # Dropout layer after the third LSTM Layer\n",
    "model.add(Dense(1, activation='sigmoid'))  # Output layer for binary classification\n",
    "model.compile(optimizer='adam', loss='binary_crossentropy', metrics=['accuracy'])\n",
    "\n",
    "history=model.fit(\n",
    "        X_train, y_train, \n",
    "        validation_split=0.2, \n",
    "        epochs=10, \n",
    "        batch_size=32,\n",
    "        verbose=1,\n",
    "        callbacks=[early_stopping]\n",
    "    )"
   ]
  },
  {
   "cell_type": "code",
   "execution_count": 38,
   "id": "f89ebd3d-2772-426f-aaa6-eb2069e5e616",
   "metadata": {},
   "outputs": [
    {
     "name": "stdout",
     "output_type": "stream",
     "text": [
      "\u001b[1m782/782\u001b[0m \u001b[32m━━━━━━━━━━━━━━━━━━━━\u001b[0m\u001b[37m\u001b[0m \u001b[1m14s\u001b[0m 18ms/step - accuracy: 0.8504 - loss: 0.3580\n"
     ]
    },
    {
     "data": {
      "text/plain": [
       "[0.35685208439826965, 0.8508399724960327]"
      ]
     },
     "execution_count": 38,
     "metadata": {},
     "output_type": "execute_result"
    }
   ],
   "source": [
    "model.evaluate(X_test, y_test)"
   ]
  },
  {
   "cell_type": "markdown",
   "id": "a3781395-fe9c-42ad-9917-e7e2dfaebb22",
   "metadata": {},
   "source": [
    "### Accuracy and Evaluation"
   ]
  },
  {
   "cell_type": "code",
   "execution_count": 40,
   "id": "6c98a251-6d7a-48c6-95ae-bf18e8b1642e",
   "metadata": {},
   "outputs": [
    {
     "data": {
      "image/png": "[encoded data removed]",
      "text/plain": [
       "<Figure size 1200x400 with 2 Axes>"
      ]
     },
     "metadata": {},
     "output_type": "display_data"
    }
   ],
   "source": [
    "# Plot accuracy over epochs\n",
    "plt.figure(figsize=(12, 4))\n",
    "\n",
    "plt.subplot(1, 2, 1)\n",
    "plt.plot(history.history['accuracy'], label='Training Accuracy')\n",
    "plt.plot(history.history['val_accuracy'], label='Validation Accuracy')\n",
    "plt.title('Accuracy Over Epochs')\n",
    "plt.xlabel('Epoch')\n",
    "plt.ylabel('Accuracy')\n",
    "plt.legend()\n",
    "\n",
    "# Plot loss over epochs\n",
    "plt.subplot(1, 2, 2)\n",
    "plt.plot(history.history['loss'], label='Training Loss')\n",
    "plt.plot(history.history['val_loss'], label='Validation Loss')\n",
    "plt.title('Loss Over Epochs')\n",
    "plt.xlabel('Epoch')\n",
    "plt.ylabel('Loss')\n",
    "plt.legend()\n",
    "\n",
    "plt.show()\n"
   ]
  },
  {
   "cell_type": "markdown",
   "id": "e2cd10b4-136b-4eb9-9ee9-22f29882f249",
   "metadata": {},
   "source": [
    "Despite several attempts to reduce overfitting, including tuning batch size, adjusting activation functions, adding drop out layers and experimenting with different rates. We see that our models had a tendency to overfit and plateau around 85-87% for validation and test accuracy, therefore, the use of the early callback with best weight restoration feature on was a good way to ensure that we are getting the best feaures out of whatever model we used. Moreover, we noticed that relu had a very poor performance likely due to exploding gradient issues due to the long text sequences that it was exposed to in this dataset.\n",
    "Future work could involve, adapting learning rates, trying different optimizers and loss functions as well as using something like a tensorboard to further debug where the model falls short. However, per review of data and literature online, the test accuracy for the IMDB dataset tends to fall within 85-90% for a well-trained model, so the results we got here are satisfactory."
   ]
  }
 ],
 "metadata": {
  "kernelspec": {
   "display_name": "Python 3 (ipykernel)",
   "language": "python",
   "name": "python3"
  },
  "language_info": {
   "codemirror_mode": {
    "name": "ipython",
    "version": 3
   },
   "file_extension": ".py",
   "mimetype": "text/x-python",
   "name": "python",
   "nbconvert_exporter": "python",
   "pygments_lexer": "ipython3",
   "version": "3.12.7"
  }
 },
 "nbformat": 4,
 "nbformat_minor": 5
}
